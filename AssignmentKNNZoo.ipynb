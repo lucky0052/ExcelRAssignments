{
  "nbformat": 4,
  "nbformat_minor": 0,
  "metadata": {
    "colab": {
      "provenance": []
    },
    "kernelspec": {
      "name": "python3",
      "display_name": "Python 3"
    },
    "language_info": {
      "name": "python"
    }
  },
  "cells": [
    {
      "cell_type": "code",
      "execution_count": null,
      "metadata": {
        "id": "bMNEonjZFwnu"
      },
      "outputs": [],
      "source": [
        "import pandas as pd\n",
        "import numpy as np\n",
        "import seaborn as sns\n",
        "import matplotlib.pyplot as plt\n"
      ]
    },
    {
      "cell_type": "code",
      "source": [
        "# reading dataset\n",
        "data = pd.read_csv('/content/drive/MyDrive/ExcelRDataset/Zoo.csv')\n",
        "data.head(n=-1)"
      ],
      "metadata": {
        "colab": {
          "base_uri": "https://localhost:8080/",
          "height": 423
        },
        "id": "VxtGSs07Gevn",
        "outputId": "eb04bf60-051d-4f8d-d0ae-38ab2e4418b3"
      },
      "execution_count": null,
      "outputs": [
        {
          "output_type": "execute_result",
          "data": {
            "text/plain": [
              "   animal name  hair  feathers  eggs  milk  airborne  aquatic  predator  \\\n",
              "0     aardvark     1         0     0     1         0        0         1   \n",
              "1     antelope     1         0     0     1         0        0         0   \n",
              "2         bass     0         0     1     0         0        1         1   \n",
              "3         bear     1         0     0     1         0        0         1   \n",
              "4         boar     1         0     0     1         0        0         1   \n",
              "..         ...   ...       ...   ...   ...       ...      ...       ...   \n",
              "95     vulture     0         1     1     0         1        0         1   \n",
              "96     wallaby     1         0     0     1         0        0         0   \n",
              "97        wasp     1         0     1     0         1        0         0   \n",
              "98        wolf     1         0     0     1         0        0         1   \n",
              "99        worm     0         0     1     0         0        0         0   \n",
              "\n",
              "    toothed  backbone  breathes  venomous  fins  legs  tail  domestic  \\\n",
              "0         1         1         1         0     0     4     0         0   \n",
              "1         1         1         1         0     0     4     1         0   \n",
              "2         1         1         0         0     1     0     1         0   \n",
              "3         1         1         1         0     0     4     0         0   \n",
              "4         1         1         1         0     0     4     1         0   \n",
              "..      ...       ...       ...       ...   ...   ...   ...       ...   \n",
              "95        0         1         1         0     0     2     1         0   \n",
              "96        1         1         1         0     0     2     1         0   \n",
              "97        0         0         1         1     0     6     0         0   \n",
              "98        1         1         1         0     0     4     1         0   \n",
              "99        0         0         1         0     0     0     0         0   \n",
              "\n",
              "    catsize  type  \n",
              "0         1     1  \n",
              "1         1     1  \n",
              "2         0     4  \n",
              "3         1     1  \n",
              "4         1     1  \n",
              "..      ...   ...  \n",
              "95        1     2  \n",
              "96        1     1  \n",
              "97        0     6  \n",
              "98        1     1  \n",
              "99        0     7  \n",
              "\n",
              "[100 rows x 18 columns]"
            ],
            "text/html": [
              "\n",
              "  <div id=\"df-0e85418d-8939-42a3-b8f8-c713f02cef71\">\n",
              "    <div class=\"colab-df-container\">\n",
              "      <div>\n",
              "<style scoped>\n",
              "    .dataframe tbody tr th:only-of-type {\n",
              "        vertical-align: middle;\n",
              "    }\n",
              "\n",
              "    .dataframe tbody tr th {\n",
              "        vertical-align: top;\n",
              "    }\n",
              "\n",
              "    .dataframe thead th {\n",
              "        text-align: right;\n",
              "    }\n",
              "</style>\n",
              "<table border=\"1\" class=\"dataframe\">\n",
              "  <thead>\n",
              "    <tr style=\"text-align: right;\">\n",
              "      <th></th>\n",
              "      <th>animal name</th>\n",
              "      <th>hair</th>\n",
              "      <th>feathers</th>\n",
              "      <th>eggs</th>\n",
              "      <th>milk</th>\n",
              "      <th>airborne</th>\n",
              "      <th>aquatic</th>\n",
              "      <th>predator</th>\n",
              "      <th>toothed</th>\n",
              "      <th>backbone</th>\n",
              "      <th>breathes</th>\n",
              "      <th>venomous</th>\n",
              "      <th>fins</th>\n",
              "      <th>legs</th>\n",
              "      <th>tail</th>\n",
              "      <th>domestic</th>\n",
              "      <th>catsize</th>\n",
              "      <th>type</th>\n",
              "    </tr>\n",
              "  </thead>\n",
              "  <tbody>\n",
              "    <tr>\n",
              "      <th>0</th>\n",
              "      <td>aardvark</td>\n",
              "      <td>1</td>\n",
              "      <td>0</td>\n",
              "      <td>0</td>\n",
              "      <td>1</td>\n",
              "      <td>0</td>\n",
              "      <td>0</td>\n",
              "      <td>1</td>\n",
              "      <td>1</td>\n",
              "      <td>1</td>\n",
              "      <td>1</td>\n",
              "      <td>0</td>\n",
              "      <td>0</td>\n",
              "      <td>4</td>\n",
              "      <td>0</td>\n",
              "      <td>0</td>\n",
              "      <td>1</td>\n",
              "      <td>1</td>\n",
              "    </tr>\n",
              "    <tr>\n",
              "      <th>1</th>\n",
              "      <td>antelope</td>\n",
              "      <td>1</td>\n",
              "      <td>0</td>\n",
              "      <td>0</td>\n",
              "      <td>1</td>\n",
              "      <td>0</td>\n",
              "      <td>0</td>\n",
              "      <td>0</td>\n",
              "      <td>1</td>\n",
              "      <td>1</td>\n",
              "      <td>1</td>\n",
              "      <td>0</td>\n",
              "      <td>0</td>\n",
              "      <td>4</td>\n",
              "      <td>1</td>\n",
              "      <td>0</td>\n",
              "      <td>1</td>\n",
              "      <td>1</td>\n",
              "    </tr>\n",
              "    <tr>\n",
              "      <th>2</th>\n",
              "      <td>bass</td>\n",
              "      <td>0</td>\n",
              "      <td>0</td>\n",
              "      <td>1</td>\n",
              "      <td>0</td>\n",
              "      <td>0</td>\n",
              "      <td>1</td>\n",
              "      <td>1</td>\n",
              "      <td>1</td>\n",
              "      <td>1</td>\n",
              "      <td>0</td>\n",
              "      <td>0</td>\n",
              "      <td>1</td>\n",
              "      <td>0</td>\n",
              "      <td>1</td>\n",
              "      <td>0</td>\n",
              "      <td>0</td>\n",
              "      <td>4</td>\n",
              "    </tr>\n",
              "    <tr>\n",
              "      <th>3</th>\n",
              "      <td>bear</td>\n",
              "      <td>1</td>\n",
              "      <td>0</td>\n",
              "      <td>0</td>\n",
              "      <td>1</td>\n",
              "      <td>0</td>\n",
              "      <td>0</td>\n",
              "      <td>1</td>\n",
              "      <td>1</td>\n",
              "      <td>1</td>\n",
              "      <td>1</td>\n",
              "      <td>0</td>\n",
              "      <td>0</td>\n",
              "      <td>4</td>\n",
              "      <td>0</td>\n",
              "      <td>0</td>\n",
              "      <td>1</td>\n",
              "      <td>1</td>\n",
              "    </tr>\n",
              "    <tr>\n",
              "      <th>4</th>\n",
              "      <td>boar</td>\n",
              "      <td>1</td>\n",
              "      <td>0</td>\n",
              "      <td>0</td>\n",
              "      <td>1</td>\n",
              "      <td>0</td>\n",
              "      <td>0</td>\n",
              "      <td>1</td>\n",
              "      <td>1</td>\n",
              "      <td>1</td>\n",
              "      <td>1</td>\n",
              "      <td>0</td>\n",
              "      <td>0</td>\n",
              "      <td>4</td>\n",
              "      <td>1</td>\n",
              "      <td>0</td>\n",
              "      <td>1</td>\n",
              "      <td>1</td>\n",
              "    </tr>\n",
              "    <tr>\n",
              "      <th>...</th>\n",
              "      <td>...</td>\n",
              "      <td>...</td>\n",
              "      <td>...</td>\n",
              "      <td>...</td>\n",
              "      <td>...</td>\n",
              "      <td>...</td>\n",
              "      <td>...</td>\n",
              "      <td>...</td>\n",
              "      <td>...</td>\n",
              "      <td>...</td>\n",
              "      <td>...</td>\n",
              "      <td>...</td>\n",
              "      <td>...</td>\n",
              "      <td>...</td>\n",
              "      <td>...</td>\n",
              "      <td>...</td>\n",
              "      <td>...</td>\n",
              "      <td>...</td>\n",
              "    </tr>\n",
              "    <tr>\n",
              "      <th>95</th>\n",
              "      <td>vulture</td>\n",
              "      <td>0</td>\n",
              "      <td>1</td>\n",
              "      <td>1</td>\n",
              "      <td>0</td>\n",
              "      <td>1</td>\n",
              "      <td>0</td>\n",
              "      <td>1</td>\n",
              "      <td>0</td>\n",
              "      <td>1</td>\n",
              "      <td>1</td>\n",
              "      <td>0</td>\n",
              "      <td>0</td>\n",
              "      <td>2</td>\n",
              "      <td>1</td>\n",
              "      <td>0</td>\n",
              "      <td>1</td>\n",
              "      <td>2</td>\n",
              "    </tr>\n",
              "    <tr>\n",
              "      <th>96</th>\n",
              "      <td>wallaby</td>\n",
              "      <td>1</td>\n",
              "      <td>0</td>\n",
              "      <td>0</td>\n",
              "      <td>1</td>\n",
              "      <td>0</td>\n",
              "      <td>0</td>\n",
              "      <td>0</td>\n",
              "      <td>1</td>\n",
              "      <td>1</td>\n",
              "      <td>1</td>\n",
              "      <td>0</td>\n",
              "      <td>0</td>\n",
              "      <td>2</td>\n",
              "      <td>1</td>\n",
              "      <td>0</td>\n",
              "      <td>1</td>\n",
              "      <td>1</td>\n",
              "    </tr>\n",
              "    <tr>\n",
              "      <th>97</th>\n",
              "      <td>wasp</td>\n",
              "      <td>1</td>\n",
              "      <td>0</td>\n",
              "      <td>1</td>\n",
              "      <td>0</td>\n",
              "      <td>1</td>\n",
              "      <td>0</td>\n",
              "      <td>0</td>\n",
              "      <td>0</td>\n",
              "      <td>0</td>\n",
              "      <td>1</td>\n",
              "      <td>1</td>\n",
              "      <td>0</td>\n",
              "      <td>6</td>\n",
              "      <td>0</td>\n",
              "      <td>0</td>\n",
              "      <td>0</td>\n",
              "      <td>6</td>\n",
              "    </tr>\n",
              "    <tr>\n",
              "      <th>98</th>\n",
              "      <td>wolf</td>\n",
              "      <td>1</td>\n",
              "      <td>0</td>\n",
              "      <td>0</td>\n",
              "      <td>1</td>\n",
              "      <td>0</td>\n",
              "      <td>0</td>\n",
              "      <td>1</td>\n",
              "      <td>1</td>\n",
              "      <td>1</td>\n",
              "      <td>1</td>\n",
              "      <td>0</td>\n",
              "      <td>0</td>\n",
              "      <td>4</td>\n",
              "      <td>1</td>\n",
              "      <td>0</td>\n",
              "      <td>1</td>\n",
              "      <td>1</td>\n",
              "    </tr>\n",
              "    <tr>\n",
              "      <th>99</th>\n",
              "      <td>worm</td>\n",
              "      <td>0</td>\n",
              "      <td>0</td>\n",
              "      <td>1</td>\n",
              "      <td>0</td>\n",
              "      <td>0</td>\n",
              "      <td>0</td>\n",
              "      <td>0</td>\n",
              "      <td>0</td>\n",
              "      <td>0</td>\n",
              "      <td>1</td>\n",
              "      <td>0</td>\n",
              "      <td>0</td>\n",
              "      <td>0</td>\n",
              "      <td>0</td>\n",
              "      <td>0</td>\n",
              "      <td>0</td>\n",
              "      <td>7</td>\n",
              "    </tr>\n",
              "  </tbody>\n",
              "</table>\n",
              "<p>100 rows × 18 columns</p>\n",
              "</div>\n",
              "      <button class=\"colab-df-convert\" onclick=\"convertToInteractive('df-0e85418d-8939-42a3-b8f8-c713f02cef71')\"\n",
              "              title=\"Convert this dataframe to an interactive table.\"\n",
              "              style=\"display:none;\">\n",
              "        \n",
              "  <svg xmlns=\"http://www.w3.org/2000/svg\" height=\"24px\"viewBox=\"0 0 24 24\"\n",
              "       width=\"24px\">\n",
              "    <path d=\"M0 0h24v24H0V0z\" fill=\"none\"/>\n",
              "    <path d=\"M18.56 5.44l.94 2.06.94-2.06 2.06-.94-2.06-.94-.94-2.06-.94 2.06-2.06.94zm-11 1L8.5 8.5l.94-2.06 2.06-.94-2.06-.94L8.5 2.5l-.94 2.06-2.06.94zm10 10l.94 2.06.94-2.06 2.06-.94-2.06-.94-.94-2.06-.94 2.06-2.06.94z\"/><path d=\"M17.41 7.96l-1.37-1.37c-.4-.4-.92-.59-1.43-.59-.52 0-1.04.2-1.43.59L10.3 9.45l-7.72 7.72c-.78.78-.78 2.05 0 2.83L4 21.41c.39.39.9.59 1.41.59.51 0 1.02-.2 1.41-.59l7.78-7.78 2.81-2.81c.8-.78.8-2.07 0-2.86zM5.41 20L4 18.59l7.72-7.72 1.47 1.35L5.41 20z\"/>\n",
              "  </svg>\n",
              "      </button>\n",
              "      \n",
              "  <style>\n",
              "    .colab-df-container {\n",
              "      display:flex;\n",
              "      flex-wrap:wrap;\n",
              "      gap: 12px;\n",
              "    }\n",
              "\n",
              "    .colab-df-convert {\n",
              "      background-color: #E8F0FE;\n",
              "      border: none;\n",
              "      border-radius: 50%;\n",
              "      cursor: pointer;\n",
              "      display: none;\n",
              "      fill: #1967D2;\n",
              "      height: 32px;\n",
              "      padding: 0 0 0 0;\n",
              "      width: 32px;\n",
              "    }\n",
              "\n",
              "    .colab-df-convert:hover {\n",
              "      background-color: #E2EBFA;\n",
              "      box-shadow: 0px 1px 2px rgba(60, 64, 67, 0.3), 0px 1px 3px 1px rgba(60, 64, 67, 0.15);\n",
              "      fill: #174EA6;\n",
              "    }\n",
              "\n",
              "    [theme=dark] .colab-df-convert {\n",
              "      background-color: #3B4455;\n",
              "      fill: #D2E3FC;\n",
              "    }\n",
              "\n",
              "    [theme=dark] .colab-df-convert:hover {\n",
              "      background-color: #434B5C;\n",
              "      box-shadow: 0px 1px 3px 1px rgba(0, 0, 0, 0.15);\n",
              "      filter: drop-shadow(0px 1px 2px rgba(0, 0, 0, 0.3));\n",
              "      fill: #FFFFFF;\n",
              "    }\n",
              "  </style>\n",
              "\n",
              "      <script>\n",
              "        const buttonEl =\n",
              "          document.querySelector('#df-0e85418d-8939-42a3-b8f8-c713f02cef71 button.colab-df-convert');\n",
              "        buttonEl.style.display =\n",
              "          google.colab.kernel.accessAllowed ? 'block' : 'none';\n",
              "\n",
              "        async function convertToInteractive(key) {\n",
              "          const element = document.querySelector('#df-0e85418d-8939-42a3-b8f8-c713f02cef71');\n",
              "          const dataTable =\n",
              "            await google.colab.kernel.invokeFunction('convertToInteractive',\n",
              "                                                     [key], {});\n",
              "          if (!dataTable) return;\n",
              "\n",
              "          const docLinkHtml = 'Like what you see? Visit the ' +\n",
              "            '<a target=\"_blank\" href=https://colab.research.google.com/notebooks/data_table.ipynb>data table notebook</a>'\n",
              "            + ' to learn more about interactive tables.';\n",
              "          element.innerHTML = '';\n",
              "          dataTable['output_type'] = 'display_data';\n",
              "          await google.colab.output.renderOutput(dataTable, element);\n",
              "          const docLink = document.createElement('div');\n",
              "          docLink.innerHTML = docLinkHtml;\n",
              "          element.appendChild(docLink);\n",
              "        }\n",
              "      </script>\n",
              "    </div>\n",
              "  </div>\n",
              "  "
            ]
          },
          "metadata": {},
          "execution_count": 79
        }
      ]
    },
    {
      "cell_type": "code",
      "source": [
        "data.corr(method='pearson')"
      ],
      "metadata": {
        "colab": {
          "base_uri": "https://localhost:8080/",
          "height": 681
        },
        "id": "pnGEzo24oxg-",
        "outputId": "2e9e22de-477d-4951-db24-5a7ebbcf6bce"
      },
      "execution_count": null,
      "outputs": [
        {
          "output_type": "stream",
          "name": "stderr",
          "text": [
            "<ipython-input-80-c50c7eb58c83>:1: FutureWarning: The default value of numeric_only in DataFrame.corr is deprecated. In a future version, it will default to False. Select only valid columns or specify the value of numeric_only to silence this warning.\n",
            "  data.corr(method='pearson')\n"
          ]
        },
        {
          "output_type": "execute_result",
          "data": {
            "text/plain": [
              "              hair  feathers      eggs      milk  airborne   aquatic  \\\n",
              "hair      1.000000 -0.427851 -0.817382  0.878503 -0.198431 -0.473554   \n",
              "feathers -0.427851  1.000000  0.419248 -0.410761  0.656553 -0.058552   \n",
              "eggs     -0.817382  0.419248  1.000000 -0.938848  0.376646  0.376244   \n",
              "milk      0.878503 -0.410761 -0.938848  1.000000 -0.366765 -0.362613   \n",
              "airborne -0.198431  0.656553  0.376646 -0.366765  1.000000 -0.172638   \n",
              "aquatic  -0.473554 -0.058552  0.376244 -0.362613 -0.172638  1.000000   \n",
              "predator -0.154769 -0.104430  0.011605 -0.029721 -0.295181  0.375978   \n",
              "toothed   0.492531 -0.613631 -0.642150  0.628168 -0.594311  0.053150   \n",
              "backbone  0.191681  0.231403 -0.340420  0.384958 -0.104718  0.022463   \n",
              "breathes  0.441149  0.254588 -0.382777  0.423527  0.286039 -0.637506   \n",
              "venomous -0.104245 -0.145739  0.098689 -0.242449  0.008528  0.087915   \n",
              "fins     -0.280313 -0.223541  0.164796 -0.156328 -0.251157  0.604492   \n",
              "legs      0.394009 -0.206686 -0.224918  0.214196  0.043712 -0.360638   \n",
              "tail      0.048973  0.292569 -0.221090  0.210026  0.009482 -0.034642   \n",
              "domestic  0.207208  0.031586 -0.155610  0.163928  0.063274 -0.224308   \n",
              "catsize   0.455020 -0.135934 -0.514650  0.574906 -0.349768 -0.111866   \n",
              "type     -0.562384 -0.197520  0.661825 -0.723683  0.022677  0.326639   \n",
              "\n",
              "          predator   toothed  backbone  breathes  venomous      fins  \\\n",
              "hair     -0.154769  0.492531  0.191681  0.441149 -0.104245 -0.280313   \n",
              "feathers -0.104430 -0.613631  0.231403  0.254588 -0.145739 -0.223541   \n",
              "eggs      0.011605 -0.642150 -0.340420 -0.382777  0.098689  0.164796   \n",
              "milk     -0.029721  0.628168  0.384958  0.423527 -0.242449 -0.156328   \n",
              "airborne -0.295181 -0.594311 -0.104718  0.286039  0.008528 -0.251157   \n",
              "aquatic   0.375978  0.053150  0.022463 -0.637506  0.087915  0.604492   \n",
              "predator  1.000000  0.129452  0.051022 -0.262931  0.115391  0.190302   \n",
              "toothed   0.129452  1.000000  0.575085 -0.065690 -0.062344  0.364292   \n",
              "backbone  0.051022  0.575085  1.000000  0.207666 -0.246611  0.209499   \n",
              "breathes -0.262931 -0.065690  0.207666  1.000000 -0.120752 -0.617219   \n",
              "venomous  0.115391 -0.062344 -0.246611 -0.120752  1.000000 -0.033956   \n",
              "fins      0.190302  0.364292  0.209499 -0.617219 -0.033956  1.000000   \n",
              "legs     -0.099723 -0.193476 -0.432856  0.369868  0.022964 -0.605652   \n",
              "tail      0.018947  0.310368  0.731762  0.088952 -0.162724  0.204349   \n",
              "domestic -0.309794  0.069430  0.101733  0.124068 -0.003252 -0.093887   \n",
              "catsize   0.144790  0.344010  0.356976  0.204125 -0.183748  0.031705   \n",
              "type      0.061179 -0.471527 -0.828845 -0.519308  0.321476  0.099430   \n",
              "\n",
              "              legs      tail  domestic   catsize      type  \n",
              "hair      0.394009  0.048973  0.207208  0.455020 -0.562384  \n",
              "feathers -0.206686  0.292569  0.031586 -0.135934 -0.197520  \n",
              "eggs     -0.224918 -0.221090 -0.155610 -0.514650  0.661825  \n",
              "milk      0.214196  0.210026  0.163928  0.574906 -0.723683  \n",
              "airborne  0.043712  0.009482  0.063274 -0.349768  0.022677  \n",
              "aquatic  -0.360638 -0.034642 -0.224308 -0.111866  0.326639  \n",
              "predator -0.099723  0.018947 -0.309794  0.144790  0.061179  \n",
              "toothed  -0.193476  0.310368  0.069430  0.344010 -0.471527  \n",
              "backbone -0.432856  0.731762  0.101733  0.356976 -0.828845  \n",
              "breathes  0.369868  0.088952  0.124068  0.204125 -0.519308  \n",
              "venomous  0.022964 -0.162724 -0.003252 -0.183748  0.321476  \n",
              "fins     -0.605652  0.204349 -0.093887  0.031705  0.099430  \n",
              "legs      1.000000 -0.348295  0.073931  0.068791  0.131693  \n",
              "tail     -0.348295  1.000000  0.023434  0.243277 -0.631830  \n",
              "domestic  0.073931  0.023434  1.000000  0.020073 -0.181043  \n",
              "catsize   0.068791  0.243277  0.020073  1.000000 -0.521030  \n",
              "type      0.131693 -0.631830 -0.181043 -0.521030  1.000000  "
            ],
            "text/html": [
              "\n",
              "  <div id=\"df-557749c1-2cb3-4b54-8c08-c7689aada33e\">\n",
              "    <div class=\"colab-df-container\">\n",
              "      <div>\n",
              "<style scoped>\n",
              "    .dataframe tbody tr th:only-of-type {\n",
              "        vertical-align: middle;\n",
              "    }\n",
              "\n",
              "    .dataframe tbody tr th {\n",
              "        vertical-align: top;\n",
              "    }\n",
              "\n",
              "    .dataframe thead th {\n",
              "        text-align: right;\n",
              "    }\n",
              "</style>\n",
              "<table border=\"1\" class=\"dataframe\">\n",
              "  <thead>\n",
              "    <tr style=\"text-align: right;\">\n",
              "      <th></th>\n",
              "      <th>hair</th>\n",
              "      <th>feathers</th>\n",
              "      <th>eggs</th>\n",
              "      <th>milk</th>\n",
              "      <th>airborne</th>\n",
              "      <th>aquatic</th>\n",
              "      <th>predator</th>\n",
              "      <th>toothed</th>\n",
              "      <th>backbone</th>\n",
              "      <th>breathes</th>\n",
              "      <th>venomous</th>\n",
              "      <th>fins</th>\n",
              "      <th>legs</th>\n",
              "      <th>tail</th>\n",
              "      <th>domestic</th>\n",
              "      <th>catsize</th>\n",
              "      <th>type</th>\n",
              "    </tr>\n",
              "  </thead>\n",
              "  <tbody>\n",
              "    <tr>\n",
              "      <th>hair</th>\n",
              "      <td>1.000000</td>\n",
              "      <td>-0.427851</td>\n",
              "      <td>-0.817382</td>\n",
              "      <td>0.878503</td>\n",
              "      <td>-0.198431</td>\n",
              "      <td>-0.473554</td>\n",
              "      <td>-0.154769</td>\n",
              "      <td>0.492531</td>\n",
              "      <td>0.191681</td>\n",
              "      <td>0.441149</td>\n",
              "      <td>-0.104245</td>\n",
              "      <td>-0.280313</td>\n",
              "      <td>0.394009</td>\n",
              "      <td>0.048973</td>\n",
              "      <td>0.207208</td>\n",
              "      <td>0.455020</td>\n",
              "      <td>-0.562384</td>\n",
              "    </tr>\n",
              "    <tr>\n",
              "      <th>feathers</th>\n",
              "      <td>-0.427851</td>\n",
              "      <td>1.000000</td>\n",
              "      <td>0.419248</td>\n",
              "      <td>-0.410761</td>\n",
              "      <td>0.656553</td>\n",
              "      <td>-0.058552</td>\n",
              "      <td>-0.104430</td>\n",
              "      <td>-0.613631</td>\n",
              "      <td>0.231403</td>\n",
              "      <td>0.254588</td>\n",
              "      <td>-0.145739</td>\n",
              "      <td>-0.223541</td>\n",
              "      <td>-0.206686</td>\n",
              "      <td>0.292569</td>\n",
              "      <td>0.031586</td>\n",
              "      <td>-0.135934</td>\n",
              "      <td>-0.197520</td>\n",
              "    </tr>\n",
              "    <tr>\n",
              "      <th>eggs</th>\n",
              "      <td>-0.817382</td>\n",
              "      <td>0.419248</td>\n",
              "      <td>1.000000</td>\n",
              "      <td>-0.938848</td>\n",
              "      <td>0.376646</td>\n",
              "      <td>0.376244</td>\n",
              "      <td>0.011605</td>\n",
              "      <td>-0.642150</td>\n",
              "      <td>-0.340420</td>\n",
              "      <td>-0.382777</td>\n",
              "      <td>0.098689</td>\n",
              "      <td>0.164796</td>\n",
              "      <td>-0.224918</td>\n",
              "      <td>-0.221090</td>\n",
              "      <td>-0.155610</td>\n",
              "      <td>-0.514650</td>\n",
              "      <td>0.661825</td>\n",
              "    </tr>\n",
              "    <tr>\n",
              "      <th>milk</th>\n",
              "      <td>0.878503</td>\n",
              "      <td>-0.410761</td>\n",
              "      <td>-0.938848</td>\n",
              "      <td>1.000000</td>\n",
              "      <td>-0.366765</td>\n",
              "      <td>-0.362613</td>\n",
              "      <td>-0.029721</td>\n",
              "      <td>0.628168</td>\n",
              "      <td>0.384958</td>\n",
              "      <td>0.423527</td>\n",
              "      <td>-0.242449</td>\n",
              "      <td>-0.156328</td>\n",
              "      <td>0.214196</td>\n",
              "      <td>0.210026</td>\n",
              "      <td>0.163928</td>\n",
              "      <td>0.574906</td>\n",
              "      <td>-0.723683</td>\n",
              "    </tr>\n",
              "    <tr>\n",
              "      <th>airborne</th>\n",
              "      <td>-0.198431</td>\n",
              "      <td>0.656553</td>\n",
              "      <td>0.376646</td>\n",
              "      <td>-0.366765</td>\n",
              "      <td>1.000000</td>\n",
              "      <td>-0.172638</td>\n",
              "      <td>-0.295181</td>\n",
              "      <td>-0.594311</td>\n",
              "      <td>-0.104718</td>\n",
              "      <td>0.286039</td>\n",
              "      <td>0.008528</td>\n",
              "      <td>-0.251157</td>\n",
              "      <td>0.043712</td>\n",
              "      <td>0.009482</td>\n",
              "      <td>0.063274</td>\n",
              "      <td>-0.349768</td>\n",
              "      <td>0.022677</td>\n",
              "    </tr>\n",
              "    <tr>\n",
              "      <th>aquatic</th>\n",
              "      <td>-0.473554</td>\n",
              "      <td>-0.058552</td>\n",
              "      <td>0.376244</td>\n",
              "      <td>-0.362613</td>\n",
              "      <td>-0.172638</td>\n",
              "      <td>1.000000</td>\n",
              "      <td>0.375978</td>\n",
              "      <td>0.053150</td>\n",
              "      <td>0.022463</td>\n",
              "      <td>-0.637506</td>\n",
              "      <td>0.087915</td>\n",
              "      <td>0.604492</td>\n",
              "      <td>-0.360638</td>\n",
              "      <td>-0.034642</td>\n",
              "      <td>-0.224308</td>\n",
              "      <td>-0.111866</td>\n",
              "      <td>0.326639</td>\n",
              "    </tr>\n",
              "    <tr>\n",
              "      <th>predator</th>\n",
              "      <td>-0.154769</td>\n",
              "      <td>-0.104430</td>\n",
              "      <td>0.011605</td>\n",
              "      <td>-0.029721</td>\n",
              "      <td>-0.295181</td>\n",
              "      <td>0.375978</td>\n",
              "      <td>1.000000</td>\n",
              "      <td>0.129452</td>\n",
              "      <td>0.051022</td>\n",
              "      <td>-0.262931</td>\n",
              "      <td>0.115391</td>\n",
              "      <td>0.190302</td>\n",
              "      <td>-0.099723</td>\n",
              "      <td>0.018947</td>\n",
              "      <td>-0.309794</td>\n",
              "      <td>0.144790</td>\n",
              "      <td>0.061179</td>\n",
              "    </tr>\n",
              "    <tr>\n",
              "      <th>toothed</th>\n",
              "      <td>0.492531</td>\n",
              "      <td>-0.613631</td>\n",
              "      <td>-0.642150</td>\n",
              "      <td>0.628168</td>\n",
              "      <td>-0.594311</td>\n",
              "      <td>0.053150</td>\n",
              "      <td>0.129452</td>\n",
              "      <td>1.000000</td>\n",
              "      <td>0.575085</td>\n",
              "      <td>-0.065690</td>\n",
              "      <td>-0.062344</td>\n",
              "      <td>0.364292</td>\n",
              "      <td>-0.193476</td>\n",
              "      <td>0.310368</td>\n",
              "      <td>0.069430</td>\n",
              "      <td>0.344010</td>\n",
              "      <td>-0.471527</td>\n",
              "    </tr>\n",
              "    <tr>\n",
              "      <th>backbone</th>\n",
              "      <td>0.191681</td>\n",
              "      <td>0.231403</td>\n",
              "      <td>-0.340420</td>\n",
              "      <td>0.384958</td>\n",
              "      <td>-0.104718</td>\n",
              "      <td>0.022463</td>\n",
              "      <td>0.051022</td>\n",
              "      <td>0.575085</td>\n",
              "      <td>1.000000</td>\n",
              "      <td>0.207666</td>\n",
              "      <td>-0.246611</td>\n",
              "      <td>0.209499</td>\n",
              "      <td>-0.432856</td>\n",
              "      <td>0.731762</td>\n",
              "      <td>0.101733</td>\n",
              "      <td>0.356976</td>\n",
              "      <td>-0.828845</td>\n",
              "    </tr>\n",
              "    <tr>\n",
              "      <th>breathes</th>\n",
              "      <td>0.441149</td>\n",
              "      <td>0.254588</td>\n",
              "      <td>-0.382777</td>\n",
              "      <td>0.423527</td>\n",
              "      <td>0.286039</td>\n",
              "      <td>-0.637506</td>\n",
              "      <td>-0.262931</td>\n",
              "      <td>-0.065690</td>\n",
              "      <td>0.207666</td>\n",
              "      <td>1.000000</td>\n",
              "      <td>-0.120752</td>\n",
              "      <td>-0.617219</td>\n",
              "      <td>0.369868</td>\n",
              "      <td>0.088952</td>\n",
              "      <td>0.124068</td>\n",
              "      <td>0.204125</td>\n",
              "      <td>-0.519308</td>\n",
              "    </tr>\n",
              "    <tr>\n",
              "      <th>venomous</th>\n",
              "      <td>-0.104245</td>\n",
              "      <td>-0.145739</td>\n",
              "      <td>0.098689</td>\n",
              "      <td>-0.242449</td>\n",
              "      <td>0.008528</td>\n",
              "      <td>0.087915</td>\n",
              "      <td>0.115391</td>\n",
              "      <td>-0.062344</td>\n",
              "      <td>-0.246611</td>\n",
              "      <td>-0.120752</td>\n",
              "      <td>1.000000</td>\n",
              "      <td>-0.033956</td>\n",
              "      <td>0.022964</td>\n",
              "      <td>-0.162724</td>\n",
              "      <td>-0.003252</td>\n",
              "      <td>-0.183748</td>\n",
              "      <td>0.321476</td>\n",
              "    </tr>\n",
              "    <tr>\n",
              "      <th>fins</th>\n",
              "      <td>-0.280313</td>\n",
              "      <td>-0.223541</td>\n",
              "      <td>0.164796</td>\n",
              "      <td>-0.156328</td>\n",
              "      <td>-0.251157</td>\n",
              "      <td>0.604492</td>\n",
              "      <td>0.190302</td>\n",
              "      <td>0.364292</td>\n",
              "      <td>0.209499</td>\n",
              "      <td>-0.617219</td>\n",
              "      <td>-0.033956</td>\n",
              "      <td>1.000000</td>\n",
              "      <td>-0.605652</td>\n",
              "      <td>0.204349</td>\n",
              "      <td>-0.093887</td>\n",
              "      <td>0.031705</td>\n",
              "      <td>0.099430</td>\n",
              "    </tr>\n",
              "    <tr>\n",
              "      <th>legs</th>\n",
              "      <td>0.394009</td>\n",
              "      <td>-0.206686</td>\n",
              "      <td>-0.224918</td>\n",
              "      <td>0.214196</td>\n",
              "      <td>0.043712</td>\n",
              "      <td>-0.360638</td>\n",
              "      <td>-0.099723</td>\n",
              "      <td>-0.193476</td>\n",
              "      <td>-0.432856</td>\n",
              "      <td>0.369868</td>\n",
              "      <td>0.022964</td>\n",
              "      <td>-0.605652</td>\n",
              "      <td>1.000000</td>\n",
              "      <td>-0.348295</td>\n",
              "      <td>0.073931</td>\n",
              "      <td>0.068791</td>\n",
              "      <td>0.131693</td>\n",
              "    </tr>\n",
              "    <tr>\n",
              "      <th>tail</th>\n",
              "      <td>0.048973</td>\n",
              "      <td>0.292569</td>\n",
              "      <td>-0.221090</td>\n",
              "      <td>0.210026</td>\n",
              "      <td>0.009482</td>\n",
              "      <td>-0.034642</td>\n",
              "      <td>0.018947</td>\n",
              "      <td>0.310368</td>\n",
              "      <td>0.731762</td>\n",
              "      <td>0.088952</td>\n",
              "      <td>-0.162724</td>\n",
              "      <td>0.204349</td>\n",
              "      <td>-0.348295</td>\n",
              "      <td>1.000000</td>\n",
              "      <td>0.023434</td>\n",
              "      <td>0.243277</td>\n",
              "      <td>-0.631830</td>\n",
              "    </tr>\n",
              "    <tr>\n",
              "      <th>domestic</th>\n",
              "      <td>0.207208</td>\n",
              "      <td>0.031586</td>\n",
              "      <td>-0.155610</td>\n",
              "      <td>0.163928</td>\n",
              "      <td>0.063274</td>\n",
              "      <td>-0.224308</td>\n",
              "      <td>-0.309794</td>\n",
              "      <td>0.069430</td>\n",
              "      <td>0.101733</td>\n",
              "      <td>0.124068</td>\n",
              "      <td>-0.003252</td>\n",
              "      <td>-0.093887</td>\n",
              "      <td>0.073931</td>\n",
              "      <td>0.023434</td>\n",
              "      <td>1.000000</td>\n",
              "      <td>0.020073</td>\n",
              "      <td>-0.181043</td>\n",
              "    </tr>\n",
              "    <tr>\n",
              "      <th>catsize</th>\n",
              "      <td>0.455020</td>\n",
              "      <td>-0.135934</td>\n",
              "      <td>-0.514650</td>\n",
              "      <td>0.574906</td>\n",
              "      <td>-0.349768</td>\n",
              "      <td>-0.111866</td>\n",
              "      <td>0.144790</td>\n",
              "      <td>0.344010</td>\n",
              "      <td>0.356976</td>\n",
              "      <td>0.204125</td>\n",
              "      <td>-0.183748</td>\n",
              "      <td>0.031705</td>\n",
              "      <td>0.068791</td>\n",
              "      <td>0.243277</td>\n",
              "      <td>0.020073</td>\n",
              "      <td>1.000000</td>\n",
              "      <td>-0.521030</td>\n",
              "    </tr>\n",
              "    <tr>\n",
              "      <th>type</th>\n",
              "      <td>-0.562384</td>\n",
              "      <td>-0.197520</td>\n",
              "      <td>0.661825</td>\n",
              "      <td>-0.723683</td>\n",
              "      <td>0.022677</td>\n",
              "      <td>0.326639</td>\n",
              "      <td>0.061179</td>\n",
              "      <td>-0.471527</td>\n",
              "      <td>-0.828845</td>\n",
              "      <td>-0.519308</td>\n",
              "      <td>0.321476</td>\n",
              "      <td>0.099430</td>\n",
              "      <td>0.131693</td>\n",
              "      <td>-0.631830</td>\n",
              "      <td>-0.181043</td>\n",
              "      <td>-0.521030</td>\n",
              "      <td>1.000000</td>\n",
              "    </tr>\n",
              "  </tbody>\n",
              "</table>\n",
              "</div>\n",
              "      <button class=\"colab-df-convert\" onclick=\"convertToInteractive('df-557749c1-2cb3-4b54-8c08-c7689aada33e')\"\n",
              "              title=\"Convert this dataframe to an interactive table.\"\n",
              "              style=\"display:none;\">\n",
              "        \n",
              "  <svg xmlns=\"http://www.w3.org/2000/svg\" height=\"24px\"viewBox=\"0 0 24 24\"\n",
              "       width=\"24px\">\n",
              "    <path d=\"M0 0h24v24H0V0z\" fill=\"none\"/>\n",
              "    <path d=\"M18.56 5.44l.94 2.06.94-2.06 2.06-.94-2.06-.94-.94-2.06-.94 2.06-2.06.94zm-11 1L8.5 8.5l.94-2.06 2.06-.94-2.06-.94L8.5 2.5l-.94 2.06-2.06.94zm10 10l.94 2.06.94-2.06 2.06-.94-2.06-.94-.94-2.06-.94 2.06-2.06.94z\"/><path d=\"M17.41 7.96l-1.37-1.37c-.4-.4-.92-.59-1.43-.59-.52 0-1.04.2-1.43.59L10.3 9.45l-7.72 7.72c-.78.78-.78 2.05 0 2.83L4 21.41c.39.39.9.59 1.41.59.51 0 1.02-.2 1.41-.59l7.78-7.78 2.81-2.81c.8-.78.8-2.07 0-2.86zM5.41 20L4 18.59l7.72-7.72 1.47 1.35L5.41 20z\"/>\n",
              "  </svg>\n",
              "      </button>\n",
              "      \n",
              "  <style>\n",
              "    .colab-df-container {\n",
              "      display:flex;\n",
              "      flex-wrap:wrap;\n",
              "      gap: 12px;\n",
              "    }\n",
              "\n",
              "    .colab-df-convert {\n",
              "      background-color: #E8F0FE;\n",
              "      border: none;\n",
              "      border-radius: 50%;\n",
              "      cursor: pointer;\n",
              "      display: none;\n",
              "      fill: #1967D2;\n",
              "      height: 32px;\n",
              "      padding: 0 0 0 0;\n",
              "      width: 32px;\n",
              "    }\n",
              "\n",
              "    .colab-df-convert:hover {\n",
              "      background-color: #E2EBFA;\n",
              "      box-shadow: 0px 1px 2px rgba(60, 64, 67, 0.3), 0px 1px 3px 1px rgba(60, 64, 67, 0.15);\n",
              "      fill: #174EA6;\n",
              "    }\n",
              "\n",
              "    [theme=dark] .colab-df-convert {\n",
              "      background-color: #3B4455;\n",
              "      fill: #D2E3FC;\n",
              "    }\n",
              "\n",
              "    [theme=dark] .colab-df-convert:hover {\n",
              "      background-color: #434B5C;\n",
              "      box-shadow: 0px 1px 3px 1px rgba(0, 0, 0, 0.15);\n",
              "      filter: drop-shadow(0px 1px 2px rgba(0, 0, 0, 0.3));\n",
              "      fill: #FFFFFF;\n",
              "    }\n",
              "  </style>\n",
              "\n",
              "      <script>\n",
              "        const buttonEl =\n",
              "          document.querySelector('#df-557749c1-2cb3-4b54-8c08-c7689aada33e button.colab-df-convert');\n",
              "        buttonEl.style.display =\n",
              "          google.colab.kernel.accessAllowed ? 'block' : 'none';\n",
              "\n",
              "        async function convertToInteractive(key) {\n",
              "          const element = document.querySelector('#df-557749c1-2cb3-4b54-8c08-c7689aada33e');\n",
              "          const dataTable =\n",
              "            await google.colab.kernel.invokeFunction('convertToInteractive',\n",
              "                                                     [key], {});\n",
              "          if (!dataTable) return;\n",
              "\n",
              "          const docLinkHtml = 'Like what you see? Visit the ' +\n",
              "            '<a target=\"_blank\" href=https://colab.research.google.com/notebooks/data_table.ipynb>data table notebook</a>'\n",
              "            + ' to learn more about interactive tables.';\n",
              "          element.innerHTML = '';\n",
              "          dataTable['output_type'] = 'display_data';\n",
              "          await google.colab.output.renderOutput(dataTable, element);\n",
              "          const docLink = document.createElement('div');\n",
              "          docLink.innerHTML = docLinkHtml;\n",
              "          element.appendChild(docLink);\n",
              "        }\n",
              "      </script>\n",
              "    </div>\n",
              "  </div>\n",
              "  "
            ]
          },
          "metadata": {},
          "execution_count": 80
        }
      ]
    },
    {
      "cell_type": "code",
      "source": [
        "data.drop(columns=['animal name'],inplace=True)"
      ],
      "metadata": {
        "id": "CDRE3Ui8orB1"
      },
      "execution_count": null,
      "outputs": []
    },
    {
      "cell_type": "code",
      "source": [
        "sns.countplot(x=data['type'])"
      ],
      "metadata": {
        "colab": {
          "base_uri": "https://localhost:8080/",
          "height": 466
        },
        "id": "yuMTZnJtANoy",
        "outputId": "fe236eee-d6f9-40e5-d922-8437ee28311e"
      },
      "execution_count": null,
      "outputs": [
        {
          "output_type": "execute_result",
          "data": {
            "text/plain": [
              "<Axes: xlabel='type', ylabel='count'>"
            ]
          },
          "metadata": {},
          "execution_count": 82
        },
        {
          "output_type": "display_data",
          "data": {
            "text/plain": [
              "<Figure size 640x480 with 1 Axes>"
            ],
            "image/png": "[encoded data removed]"
          },
          "metadata": {}
        }
      ]
    },
    {
      "cell_type": "code",
      "source": [
        "# checking class imbalance\n",
        "data.nunique()"
      ],
      "metadata": {
        "colab": {
          "base_uri": "https://localhost:8080/"
        },
        "id": "SxH7eaSiQ_Hq",
        "outputId": "c0995d7b-5208-4d95-cee9-cfcb369cb7c1"
      },
      "execution_count": null,
      "outputs": [
        {
          "output_type": "execute_result",
          "data": {
            "text/plain": [
              "hair        2\n",
              "feathers    2\n",
              "eggs        2\n",
              "milk        2\n",
              "airborne    2\n",
              "aquatic     2\n",
              "predator    2\n",
              "toothed     2\n",
              "backbone    2\n",
              "breathes    2\n",
              "venomous    2\n",
              "fins        2\n",
              "legs        6\n",
              "tail        2\n",
              "domestic    2\n",
              "catsize     2\n",
              "type        7\n",
              "dtype: int64"
            ]
          },
          "metadata": {},
          "execution_count": 83
        }
      ]
    },
    {
      "cell_type": "code",
      "source": [
        "data.info()"
      ],
      "metadata": {
        "colab": {
          "base_uri": "https://localhost:8080/"
        },
        "id": "EFUzoetgHD1L",
        "outputId": "b80d50be-61ca-46bc-e34c-dab1d648bf37"
      },
      "execution_count": null,
      "outputs": [
        {
          "output_type": "stream",
          "name": "stdout",
          "text": [
            "<class 'pandas.core.frame.DataFrame'>\n",
            "RangeIndex: 101 entries, 0 to 100\n",
            "Data columns (total 17 columns):\n",
            " #   Column    Non-Null Count  Dtype\n",
            "---  ------    --------------  -----\n",
            " 0   hair      101 non-null    int64\n",
            " 1   feathers  101 non-null    int64\n",
            " 2   eggs      101 non-null    int64\n",
            " 3   milk      101 non-null    int64\n",
            " 4   airborne  101 non-null    int64\n",
            " 5   aquatic   101 non-null    int64\n",
            " 6   predator  101 non-null    int64\n",
            " 7   toothed   101 non-null    int64\n",
            " 8   backbone  101 non-null    int64\n",
            " 9   breathes  101 non-null    int64\n",
            " 10  venomous  101 non-null    int64\n",
            " 11  fins      101 non-null    int64\n",
            " 12  legs      101 non-null    int64\n",
            " 13  tail      101 non-null    int64\n",
            " 14  domestic  101 non-null    int64\n",
            " 15  catsize   101 non-null    int64\n",
            " 16  type      101 non-null    int64\n",
            "dtypes: int64(17)\n",
            "memory usage: 13.5 KB\n"
          ]
        }
      ]
    },
    {
      "cell_type": "code",
      "source": [
        "data.shape"
      ],
      "metadata": {
        "colab": {
          "base_uri": "https://localhost:8080/"
        },
        "id": "50an1T9PHIVR",
        "outputId": "5e024f8e-206d-4115-825a-1e784121a4e8"
      },
      "execution_count": null,
      "outputs": [
        {
          "output_type": "execute_result",
          "data": {
            "text/plain": [
              "(101, 17)"
            ]
          },
          "metadata": {},
          "execution_count": 85
        }
      ]
    },
    {
      "cell_type": "code",
      "source": [
        "data.columns"
      ],
      "metadata": {
        "colab": {
          "base_uri": "https://localhost:8080/"
        },
        "id": "5QFf8ia3IOdB",
        "outputId": "2ad01053-034c-4e36-d506-ed405797e596"
      },
      "execution_count": null,
      "outputs": [
        {
          "output_type": "execute_result",
          "data": {
            "text/plain": [
              "Index(['hair', 'feathers', 'eggs', 'milk', 'airborne', 'aquatic', 'predator',\n",
              "       'toothed', 'backbone', 'breathes', 'venomous', 'fins', 'legs', 'tail',\n",
              "       'domestic', 'catsize', 'type'],\n",
              "      dtype='object')"
            ]
          },
          "metadata": {},
          "execution_count": 86
        }
      ]
    },
    {
      "cell_type": "code",
      "source": [
        "# selecting independent and dependent variable\n",
        "X = data.iloc[:,1:-1].values\n",
        "y = data.iloc[:,-1].values\n"
      ],
      "metadata": {
        "id": "KUEmYWigI5gb"
      },
      "execution_count": null,
      "outputs": []
    },
    {
      "cell_type": "code",
      "source": [
        "from imblearn.over_sampling import SMOTE\n",
        "from collections import Counter\n",
        "\n",
        "smote = SMOTE(k_neighbors=3,random_state=3)\n",
        "\n",
        "# fit predictor and target variable\n",
        "x_smote, y_smote = smote.fit_resample(X, y)\n",
        "\n",
        "print('Original dataset shape', Counter(y))\n",
        "print('Resample dataset shape', Counter(y_smote))"
      ],
      "metadata": {
        "colab": {
          "base_uri": "https://localhost:8080/"
        },
        "id": "3rPe9tUcCW2Q",
        "outputId": "fa4ae702-8f68-4ab5-f363-8ee1ea91ac8e"
      },
      "execution_count": null,
      "outputs": [
        {
          "output_type": "stream",
          "name": "stdout",
          "text": [
            "Original dataset shape Counter({1: 41, 2: 20, 4: 13, 7: 10, 6: 8, 3: 5, 5: 4})\n",
            "Resample dataset shape Counter({1: 41, 4: 41, 2: 41, 7: 41, 6: 41, 5: 41, 3: 41})\n"
          ]
        }
      ]
    },
    {
      "cell_type": "code",
      "source": [
        "from statsmodels.stats.outliers_influence import variance_inflation_factor\n",
        "  \n",
        "# VIF dataframe\n",
        "def cal_vif(Xn):\n",
        "  vif_data = pd.DataFrame()\n",
        "  vif_data[\"feature\"] = Xn.columns\n",
        "    \n",
        "  # calculating VIF for each feature\n",
        "  vif_data[\"VIF\"] = [variance_inflation_factor(Xn.values, i)\n",
        "                            for i in range(len(Xn.columns))]\n",
        "  return vif_data\n",
        "\n",
        "\n",
        "X = data.iloc[:,1:-1]\n",
        "X.drop(columns=['backbone','milk','toothed','breathes'],inplace=True)\n",
        "print(cal_vif(X))\n",
        "\n",
        "\n"
      ],
      "metadata": {
        "id": "fgiofnpsocPH",
        "colab": {
          "base_uri": "https://localhost:8080/"
        },
        "outputId": "1941a611-e1f5-498f-87b5-f7ca6e21397a"
      },
      "execution_count": null,
      "outputs": [
        {
          "output_type": "stream",
          "name": "stdout",
          "text": [
            "     feature       VIF\n",
            "0   feathers  4.495286\n",
            "1       eggs  4.451968\n",
            "2   airborne  3.146386\n",
            "3    aquatic  3.384803\n",
            "4   predator  2.964152\n",
            "5   venomous  1.237320\n",
            "6       fins  3.817315\n",
            "7       legs  4.495407\n",
            "8       tail  4.234852\n",
            "9   domestic  1.268071\n",
            "10   catsize  2.659533\n"
          ]
        },
        {
          "output_type": "stream",
          "name": "stderr",
          "text": [
            "<ipython-input-95-0815f644a0b6>:18: SettingWithCopyWarning: \n",
            "A value is trying to be set on a copy of a slice from a DataFrame\n",
            "\n",
            "See the caveats in the documentation: https://pandas.pydata.org/pandas-docs/stable/user_guide/indexing.html#returning-a-view-versus-a-copy\n",
            "  X.drop(columns=['backbone','milk','toothed','breathes'],inplace=True)\n"
          ]
        }
      ]
    },
    {
      "cell_type": "code",
      "source": [
        "from sklearn.model_selection import train_test_split\n",
        "X_train,X_test,y_train,y_test = train_test_split(x_smote,y_smote,test_size = 0.2,random_state=0)\n",
        "\n"
      ],
      "metadata": {
        "id": "swtgNKvmKAI9"
      },
      "execution_count": null,
      "outputs": []
    },
    {
      "cell_type": "code",
      "source": [],
      "metadata": {
        "id": "4IVlMdjVbjWL"
      },
      "execution_count": null,
      "outputs": []
    },
    {
      "cell_type": "code",
      "source": [
        "# oneHotEncoding\n",
        "# from sklearn.preprocessing import OneHotEncoder\n",
        "# from sklearn.compose import ColumnTransformer\n",
        "# X_train = ColumnTransformer(X)"
      ],
      "metadata": {
        "id": "MixHztAaVbwl"
      },
      "execution_count": null,
      "outputs": []
    },
    {
      "cell_type": "code",
      "source": [
        "from sklearn.neighbors import KNeighborsClassifier\n",
        "classifier = KNeighborsClassifier(n_neighbors=7)\n",
        "classifier.fit(X_train,y_train)"
      ],
      "metadata": {
        "id": "p0cRIhrNKjMz",
        "colab": {
          "base_uri": "https://localhost:8080/",
          "height": 74
        },
        "outputId": "353c531a-c2ad-48dd-f1b4-b56c14b441b4"
      },
      "execution_count": null,
      "outputs": [
        {
          "output_type": "execute_result",
          "data": {
            "text/plain": [
              "KNeighborsClassifier(n_neighbors=7)"
            ],
            "text/html": [
              "<style>#sk-container-id-5 {color: black;background-color: white;}#sk-container-id-5 pre{padding: 0;}#sk-container-id-5 div.sk-toggleable {background-color: white;}#sk-container-id-5 label.sk-toggleable__label {cursor: pointer;display: block;width: 100%;margin-bottom: 0;padding: 0.3em;box-sizing: border-box;text-align: center;}#sk-container-id-5 label.sk-toggleable__label-arrow:before {content: \"▸\";float: left;margin-right: 0.25em;color: #696969;}#sk-container-id-5 label.sk-toggleable__label-arrow:hover:before {color: black;}#sk-container-id-5 div.sk-estimator:hover label.sk-toggleable__label-arrow:before {color: black;}#sk-container-id-5 div.sk-toggleable__content {max-height: 0;max-width: 0;overflow: hidden;text-align: left;background-color: #f0f8ff;}#sk-container-id-5 div.sk-toggleable__content pre {margin: 0.2em;color: black;border-radius: 0.25em;background-color: #f0f8ff;}#sk-container-id-5 input.sk-toggleable__control:checked~div.sk-toggleable__content {max-height: 200px;max-width: 100%;overflow: auto;}#sk-container-id-5 input.sk-toggleable__control:checked~label.sk-toggleable__label-arrow:before {content: \"▾\";}#sk-container-id-5 div.sk-estimator input.sk-toggleable__control:checked~label.sk-toggleable__label {background-color: #d4ebff;}#sk-container-id-5 div.sk-label input.sk-toggleable__control:checked~label.sk-toggleable__label {background-color: #d4ebff;}#sk-container-id-5 input.sk-hidden--visually {border: 0;clip: rect(1px 1px 1px 1px);clip: rect(1px, 1px, 1px, 1px);height: 1px;margin: -1px;overflow: hidden;padding: 0;position: absolute;width: 1px;}#sk-container-id-5 div.sk-estimator {font-family: monospace;background-color: #f0f8ff;border: 1px dotted black;border-radius: 0.25em;box-sizing: border-box;margin-bottom: 0.5em;}#sk-container-id-5 div.sk-estimator:hover {background-color: #d4ebff;}#sk-container-id-5 div.sk-parallel-item::after {content: \"\";width: 100%;border-bottom: 1px solid gray;flex-grow: 1;}#sk-container-id-5 div.sk-label:hover label.sk-toggleable__label {background-color: #d4ebff;}#sk-container-id-5 div.sk-serial::before {content: \"\";position: absolute;border-left: 1px solid gray;box-sizing: border-box;top: 0;bottom: 0;left: 50%;z-index: 0;}#sk-container-id-5 div.sk-serial {display: flex;flex-direction: column;align-items: center;background-color: white;padding-right: 0.2em;padding-left: 0.2em;position: relative;}#sk-container-id-5 div.sk-item {position: relative;z-index: 1;}#sk-container-id-5 div.sk-parallel {display: flex;align-items: stretch;justify-content: center;background-color: white;position: relative;}#sk-container-id-5 div.sk-item::before, #sk-container-id-5 div.sk-parallel-item::before {content: \"\";position: absolute;border-left: 1px solid gray;box-sizing: border-box;top: 0;bottom: 0;left: 50%;z-index: -1;}#sk-container-id-5 div.sk-parallel-item {display: flex;flex-direction: column;z-index: 1;position: relative;background-color: white;}#sk-container-id-5 div.sk-parallel-item:first-child::after {align-self: flex-end;width: 50%;}#sk-container-id-5 div.sk-parallel-item:last-child::after {align-self: flex-start;width: 50%;}#sk-container-id-5 div.sk-parallel-item:only-child::after {width: 0;}#sk-container-id-5 div.sk-dashed-wrapped {border: 1px dashed gray;margin: 0 0.4em 0.5em 0.4em;box-sizing: border-box;padding-bottom: 0.4em;background-color: white;}#sk-container-id-5 div.sk-label label {font-family: monospace;font-weight: bold;display: inline-block;line-height: 1.2em;}#sk-container-id-5 div.sk-label-container {text-align: center;}#sk-container-id-5 div.sk-container {/* jupyter's `normalize.less` sets `[hidden] { display: none; }` but bootstrap.min.css set `[hidden] { display: none !important; }` so we also need the `!important` here to be able to override the default hidden behavior on the sphinx rendered scikit-learn.org. See: https://github.com/scikit-learn/scikit-learn/issues/21755 */display: inline-block !important;position: relative;}#sk-container-id-5 div.sk-text-repr-fallback {display: none;}</style><div id=\"sk-container-id-5\" class=\"sk-top-container\"><div class=\"sk-text-repr-fallback\"><pre>KNeighborsClassifier(n_neighbors=7)</pre><b>In a Jupyter environment, please rerun this cell to show the HTML representation or trust the notebook. <br />On GitHub, the HTML representation is unable to render, please try loading this page with nbviewer.org.</b></div><div class=\"sk-container\" hidden><div class=\"sk-item\"><div class=\"sk-estimator sk-toggleable\"><input class=\"sk-toggleable__control sk-hidden--visually\" id=\"sk-estimator-id-5\" type=\"checkbox\" checked><label for=\"sk-estimator-id-5\" class=\"sk-toggleable__label sk-toggleable__label-arrow\">KNeighborsClassifier</label><div class=\"sk-toggleable__content\"><pre>KNeighborsClassifier(n_neighbors=7)</pre></div></div></div></div></div>"
            ]
          },
          "metadata": {},
          "execution_count": 97
        }
      ]
    },
    {
      "cell_type": "code",
      "source": [
        "classifier.score(X_train,y_train)"
      ],
      "metadata": {
        "colab": {
          "base_uri": "https://localhost:8080/"
        },
        "id": "vw72l0vOboc5",
        "outputId": "7fe9e44a-be7a-4ab6-8d3e-2f45b9e8aa1e"
      },
      "execution_count": null,
      "outputs": [
        {
          "output_type": "execute_result",
          "data": {
            "text/plain": [
              "0.8209606986899564"
            ]
          },
          "metadata": {},
          "execution_count": 104
        }
      ]
    },
    {
      "cell_type": "code",
      "source": [
        "classifier.score(X_test,y_test)"
      ],
      "metadata": {
        "colab": {
          "base_uri": "https://localhost:8080/"
        },
        "id": "Cgpz7PLxboPj",
        "outputId": "9f06da6f-8e4f-4d78-d3be-05cd00022be6"
      },
      "execution_count": null,
      "outputs": [
        {
          "output_type": "execute_result",
          "data": {
            "text/plain": [
              "0.8275862068965517"
            ]
          },
          "metadata": {},
          "execution_count": 106
        }
      ]
    },
    {
      "cell_type": "code",
      "source": [
        "y_pred = classifier.predict(X_test)\n",
        "y_pred\n"
      ],
      "metadata": {
        "id": "IFAWJwdKL1Lm",
        "colab": {
          "base_uri": "https://localhost:8080/"
        },
        "outputId": "b7bffed2-cc17-48b0-9be5-7b85859fcd1d"
      },
      "execution_count": null,
      "outputs": [
        {
          "output_type": "execute_result",
          "data": {
            "text/plain": [
              "array([1, 4, 4, 5, 5, 1, 2, 6, 7, 1, 7, 5, 4, 7, 1, 5, 6, 4, 5, 3, 3, 6,\n",
              "       2, 7, 2, 2, 5, 6, 3, 7, 5, 4, 1, 5, 3, 7, 6, 2, 4, 1, 4, 4, 4, 5,\n",
              "       6, 3, 4, 5, 4, 7, 2, 7, 7, 5, 3, 3, 6, 2])"
            ]
          },
          "metadata": {},
          "execution_count": 98
        }
      ]
    },
    {
      "cell_type": "code",
      "source": [
        "from sklearn.metrics import accuracy_score,confusion_matrix\n",
        "acc_score = accuracy_score(y_test,y_pred)\n",
        "acc_score"
      ],
      "metadata": {
        "id": "4FVn3gDFL86D",
        "colab": {
          "base_uri": "https://localhost:8080/"
        },
        "outputId": "1c020f46-8a1a-4fcd-e4ed-85ce4dcc1fa6"
      },
      "execution_count": null,
      "outputs": [
        {
          "output_type": "execute_result",
          "data": {
            "text/plain": [
              "0.9827586206896551"
            ]
          },
          "metadata": {},
          "execution_count": 99
        }
      ]
    },
    {
      "cell_type": "code",
      "source": [
        "# Hyperparameter\n",
        "odd_list = list(range(1,30))\n",
        "neighbors =  list(filter(lambda x : x%2 != 0,odd_list))\n",
        "neighbors"
      ],
      "metadata": {
        "id": "efnsexpFMcQC",
        "colab": {
          "base_uri": "https://localhost:8080/"
        },
        "outputId": "ac14020d-9a22-4e4e-d7e1-758fcbd4a91d"
      },
      "execution_count": null,
      "outputs": [
        {
          "output_type": "execute_result",
          "data": {
            "text/plain": [
              "[1, 3, 5, 7, 9, 11, 13, 15, 17, 19, 21, 23, 25, 27, 29]"
            ]
          },
          "metadata": {},
          "execution_count": 100
        }
      ]
    },
    {
      "cell_type": "code",
      "source": [
        "ac_score = {}\n",
        "\n",
        "for k in neighbors : \n",
        "  classifier = KNeighborsClassifier(n_neighbors=k)\n",
        "  classifier.fit(X_train,y_train)\n",
        "  y_pred = classifier.predict(X_test)\n",
        "  ac_score[k] = accuracy_score(y_test,y_pred)\n",
        "\n",
        "ac_score"
      ],
      "metadata": {
        "id": "c0Fvhor9MaUr",
        "colab": {
          "base_uri": "https://localhost:8080/"
        },
        "outputId": "72623744-eefa-4469-af58-cdf45c91ac2d"
      },
      "execution_count": null,
      "outputs": [
        {
          "output_type": "execute_result",
          "data": {
            "text/plain": [
              "{1: 1.0,\n",
              " 3: 1.0,\n",
              " 5: 0.9827586206896551,\n",
              " 7: 0.9827586206896551,\n",
              " 9: 0.9827586206896551,\n",
              " 11: 0.9827586206896551,\n",
              " 13: 0.9827586206896551,\n",
              " 15: 0.9655172413793104,\n",
              " 17: 0.9310344827586207,\n",
              " 19: 0.9310344827586207,\n",
              " 21: 0.9310344827586207,\n",
              " 23: 0.9310344827586207,\n",
              " 25: 0.896551724137931,\n",
              " 27: 0.8620689655172413,\n",
              " 29: 0.8275862068965517}"
            ]
          },
          "metadata": {},
          "execution_count": 101
        }
      ]
    },
    {
      "cell_type": "code",
      "source": [
        "# confusion matrix\n",
        "sns.heatmap(confusion_matrix(y_test,y_pred),annot=True,annot_kws={\"size\": 16},cmap=\"Blues\")"
      ],
      "metadata": {
        "id": "_sw35TE1M2pS",
        "colab": {
          "base_uri": "https://localhost:8080/",
          "height": 447
        },
        "outputId": "35abb5c3-63ab-47ba-8863-a29e5959996c"
      },
      "execution_count": null,
      "outputs": [
        {
          "output_type": "execute_result",
          "data": {
            "text/plain": [
              "<Axes: >"
            ]
          },
          "metadata": {},
          "execution_count": 102
        },
        {
          "output_type": "display_data",
          "data": {
            "text/plain": [
              "<Figure size 640x480 with 2 Axes>"
            ],
            "image/png": "[encoded data removed]"
          },
          "metadata": {}
        }
      ]
    },
    {
      "cell_type": "code",
      "source": [
        "from sklearn.metrics import classification_report\n",
        "print(classification_report(y_test,y_pred))"
      ],
      "metadata": {
        "id": "qFboenQfNVf3",
        "colab": {
          "base_uri": "https://localhost:8080/"
        },
        "outputId": "376bfb44-3f9b-4f8a-ed88-c6264af73f11"
      },
      "execution_count": null,
      "outputs": [
        {
          "output_type": "stream",
          "name": "stdout",
          "text": [
            "              precision    recall  f1-score   support\n",
            "\n",
            "           1       0.86      0.86      0.86         7\n",
            "           2       1.00      1.00      1.00         7\n",
            "           3       0.60      0.43      0.50         7\n",
            "           4       0.77      1.00      0.87        10\n",
            "           5       0.85      1.00      0.92        11\n",
            "           6       0.78      1.00      0.88         7\n",
            "           7       1.00      0.44      0.62         9\n",
            "\n",
            "    accuracy                           0.83        58\n",
            "   macro avg       0.84      0.82      0.80        58\n",
            "weighted avg       0.84      0.83      0.81        58\n",
            "\n"
          ]
        }
      ]
    }
  ]
}