{
  "nbformat": 4,
  "nbformat_minor": 0,
  "metadata": {
    "colab": {
      "provenance": []
    },
    "kernelspec": {
      "name": "python3",
      "display_name": "Python 3"
    },
    "language_info": {
      "name": "python"
    }
  },
  "cells": [
    {
      "cell_type": "code",
      "execution_count": null,
      "metadata": {
        "id": "NgUjSuaFxgJQ"
      },
      "outputs": [],
      "source": [
        "import pandas as pd\n",
        "import seaborn as sns\n"
      ]
    },
    {
      "cell_type": "code",
      "source": [
        "corpus = pd.read_csv('/content/Elon_musk (1).csv',encoding='cp1252',index_col=0)\n",
        "corpus"
      ],
      "metadata": {
        "colab": {
          "base_uri": "https://localhost:8080/",
          "height": 423
        },
        "id": "CKxvxrGUx1He",
        "outputId": "cf11fd22-43c6-48d4-be03-9760979c23ee"
      },
      "execution_count": null,
      "outputs": [
        {
          "output_type": "execute_result",
          "data": {
            "text/plain": [
              "                                                   Text\n",
              "1                                @kunalb11 I’m an alien\n",
              "2     @ID_AA_Carmack Ray tracing on Cyberpunk with H...\n",
              "3                   @joerogan @Spotify Great interview!\n",
              "4                       @gtera27 Doge is underestimated\n",
              "5     @teslacn Congratulations Tesla China for amazi...\n",
              "...                                                 ...\n",
              "1995  @flcnhvy True, it sounds so surreal, but the n...\n",
              "1996  @PPathole Make sure to read ur terms &amp; con...\n",
              "1997                @TeslaGong @PPathole Samwise Gamgee\n",
              "1998  @PPathole Altho Dumb and Dumber is <U+0001F525...\n",
              "1999                          Progress update August 28\n",
              "\n",
              "[1999 rows x 1 columns]"
            ],
            "text/html": [
              "\n",
              "  <div id=\"df-4aa4910d-a6af-45b9-8001-79b5d365ee15\">\n",
              "    <div class=\"colab-df-container\">\n",
              "      <div>\n",
              "<style scoped>\n",
              "    .dataframe tbody tr th:only-of-type {\n",
              "        vertical-align: middle;\n",
              "    }\n",
              "\n",
              "    .dataframe tbody tr th {\n",
              "        vertical-align: top;\n",
              "    }\n",
              "\n",
              "    .dataframe thead th {\n",
              "        text-align: right;\n",
              "    }\n",
              "</style>\n",
              "<table border=\"1\" class=\"dataframe\">\n",
              "  <thead>\n",
              "    <tr style=\"text-align: right;\">\n",
              "      <th></th>\n",
              "      <th>Text</th>\n",
              "    </tr>\n",
              "  </thead>\n",
              "  <tbody>\n",
              "    <tr>\n",
              "      <th>1</th>\n",
              "      <td>@kunalb11 I’m an alien</td>\n",
              "    </tr>\n",
              "    <tr>\n",
              "      <th>2</th>\n",
              "      <td>@ID_AA_Carmack Ray tracing on Cyberpunk with H...</td>\n",
              "    </tr>\n",
              "    <tr>\n",
              "      <th>3</th>\n",
              "      <td>@joerogan @Spotify Great interview!</td>\n",
              "    </tr>\n",
              "    <tr>\n",
              "      <th>4</th>\n",
              "      <td>@gtera27 Doge is underestimated</td>\n",
              "    </tr>\n",
              "    <tr>\n",
              "      <th>5</th>\n",
              "      <td>@teslacn Congratulations Tesla China for amazi...</td>\n",
              "    </tr>\n",
              "    <tr>\n",
              "      <th>...</th>\n",
              "      <td>...</td>\n",
              "    </tr>\n",
              "    <tr>\n",
              "      <th>1995</th>\n",
              "      <td>@flcnhvy True, it sounds so surreal, but the n...</td>\n",
              "    </tr>\n",
              "    <tr>\n",
              "      <th>1996</th>\n",
              "      <td>@PPathole Make sure to read ur terms &amp;amp; con...</td>\n",
              "    </tr>\n",
              "    <tr>\n",
              "      <th>1997</th>\n",
              "      <td>@TeslaGong @PPathole Samwise Gamgee</td>\n",
              "    </tr>\n",
              "    <tr>\n",
              "      <th>1998</th>\n",
              "      <td>@PPathole Altho Dumb and Dumber is &lt;U+0001F525...</td>\n",
              "    </tr>\n",
              "    <tr>\n",
              "      <th>1999</th>\n",
              "      <td>Progress update August 28</td>\n",
              "    </tr>\n",
              "  </tbody>\n",
              "</table>\n",
              "<p>1999 rows × 1 columns</p>\n",
              "</div>\n",
              "      <button class=\"colab-df-convert\" onclick=\"convertToInteractive('df-4aa4910d-a6af-45b9-8001-79b5d365ee15')\"\n",
              "              title=\"Convert this dataframe to an interactive table.\"\n",
              "              style=\"display:none;\">\n",
              "        \n",
              "  <svg xmlns=\"http://www.w3.org/2000/svg\" height=\"24px\"viewBox=\"0 0 24 24\"\n",
              "       width=\"24px\">\n",
              "    <path d=\"M0 0h24v24H0V0z\" fill=\"none\"/>\n",
              "    <path d=\"M18.56 5.44l.94 2.06.94-2.06 2.06-.94-2.06-.94-.94-2.06-.94 2.06-2.06.94zm-11 1L8.5 8.5l.94-2.06 2.06-.94-2.06-.94L8.5 2.5l-.94 2.06-2.06.94zm10 10l.94 2.06.94-2.06 2.06-.94-2.06-.94-.94-2.06-.94 2.06-2.06.94z\"/><path d=\"M17.41 7.96l-1.37-1.37c-.4-.4-.92-.59-1.43-.59-.52 0-1.04.2-1.43.59L10.3 9.45l-7.72 7.72c-.78.78-.78 2.05 0 2.83L4 21.41c.39.39.9.59 1.41.59.51 0 1.02-.2 1.41-.59l7.78-7.78 2.81-2.81c.8-.78.8-2.07 0-2.86zM5.41 20L4 18.59l7.72-7.72 1.47 1.35L5.41 20z\"/>\n",
              "  </svg>\n",
              "      </button>\n",
              "      \n",
              "  <style>\n",
              "    .colab-df-container {\n",
              "      display:flex;\n",
              "      flex-wrap:wrap;\n",
              "      gap: 12px;\n",
              "    }\n",
              "\n",
              "    .colab-df-convert {\n",
              "      background-color: #E8F0FE;\n",
              "      border: none;\n",
              "      border-radius: 50%;\n",
              "      cursor: pointer;\n",
              "      display: none;\n",
              "      fill: #1967D2;\n",
              "      height: 32px;\n",
              "      padding: 0 0 0 0;\n",
              "      width: 32px;\n",
              "    }\n",
              "\n",
              "    .colab-df-convert:hover {\n",
              "      background-color: #E2EBFA;\n",
              "      box-shadow: 0px 1px 2px rgba(60, 64, 67, 0.3), 0px 1px 3px 1px rgba(60, 64, 67, 0.15);\n",
              "      fill: #174EA6;\n",
              "    }\n",
              "\n",
              "    [theme=dark] .colab-df-convert {\n",
              "      background-color: #3B4455;\n",
              "      fill: #D2E3FC;\n",
              "    }\n",
              "\n",
              "    [theme=dark] .colab-df-convert:hover {\n",
              "      background-color: #434B5C;\n",
              "      box-shadow: 0px 1px 3px 1px rgba(0, 0, 0, 0.15);\n",
              "      filter: drop-shadow(0px 1px 2px rgba(0, 0, 0, 0.3));\n",
              "      fill: #FFFFFF;\n",
              "    }\n",
              "  </style>\n",
              "\n",
              "      <script>\n",
              "        const buttonEl =\n",
              "          document.querySelector('#df-4aa4910d-a6af-45b9-8001-79b5d365ee15 button.colab-df-convert');\n",
              "        buttonEl.style.display =\n",
              "          google.colab.kernel.accessAllowed ? 'block' : 'none';\n",
              "\n",
              "        async function convertToInteractive(key) {\n",
              "          const element = document.querySelector('#df-4aa4910d-a6af-45b9-8001-79b5d365ee15');\n",
              "          const dataTable =\n",
              "            await google.colab.kernel.invokeFunction('convertToInteractive',\n",
              "                                                     [key], {});\n",
              "          if (!dataTable) return;\n",
              "\n",
              "          const docLinkHtml = 'Like what you see? Visit the ' +\n",
              "            '<a target=\"_blank\" href=https://colab.research.google.com/notebooks/data_table.ipynb>data table notebook</a>'\n",
              "            + ' to learn more about interactive tables.';\n",
              "          element.innerHTML = '';\n",
              "          dataTable['output_type'] = 'display_data';\n",
              "          await google.colab.output.renderOutput(dataTable, element);\n",
              "          const docLink = document.createElement('div');\n",
              "          docLink.innerHTML = docLinkHtml;\n",
              "          element.appendChild(docLink);\n",
              "        }\n",
              "      </script>\n",
              "    </div>\n",
              "  </div>\n",
              "  "
            ]
          },
          "metadata": {},
          "execution_count": 266
        }
      ]
    },
    {
      "cell_type": "code",
      "source": [
        "import string\n",
        "string.punctuation"
      ],
      "metadata": {
        "colab": {
          "base_uri": "https://localhost:8080/",
          "height": 36
        },
        "id": "uPcIzP7X3Qa5",
        "outputId": "dfbc7cf4-78e7-4574-c98b-0fcdb498d67e"
      },
      "execution_count": null,
      "outputs": [
        {
          "output_type": "execute_result",
          "data": {
            "text/plain": [
              "'!\"#$%&\\'()*+,-./:;<=>?@[\\\\]^_`{|}~'"
            ],
            "application/vnd.google.colaboratory.intrinsic+json": {
              "type": "string"
            }
          },
          "metadata": {},
          "execution_count": 267
        }
      ]
    },
    {
      "cell_type": "code",
      "source": [
        "import re\n",
        "pattern = re.compile('@[a-zA-Z_.]+')\n",
        "pattern1 = re.compile(r'<U\\+([0-9a-fA-F]+)>')\n",
        "pattern2 = re.compile('(https.+)|(http.+)')\n",
        "result = pattern2.findall('Under Vegas in tunnel yesterday with my boys https://t.co/tLfOuiEdFm')\n",
        "print(result) "
      ],
      "metadata": {
        "colab": {
          "base_uri": "https://localhost:8080/"
        },
        "id": "FTEf0mXV4w1U",
        "outputId": "d9aaa70b-1716-4b3b-bf62-0b77c05c63db"
      },
      "execution_count": null,
      "outputs": [
        {
          "output_type": "stream",
          "name": "stdout",
          "text": [
            "[('https://t.co/tLfOuiEdFm', '')]\n"
          ]
        }
      ]
    },
    {
      "cell_type": "code",
      "source": [
        "# removing punctuation and numbers\n",
        "\n",
        "def remove_punct(text):\n",
        "  remove_p = [word for word in text if not pattern.findall(word) and not pattern1.findall(word) ]\n",
        "  remove_uni = ' '.join([word for word in remove_p if not pattern1.findall(word) ])\n",
        "  \n",
        "  return remove_uni\n",
        "\n",
        "corpus['remove_punct'] = corpus['Text'].apply(lambda x : remove_punct(x.split()))"
      ],
      "metadata": {
        "id": "XwoMFpyr2_UG"
      },
      "execution_count": null,
      "outputs": []
    },
    {
      "cell_type": "code",
      "source": [
        "# removing punctuation and numbers\n",
        "\n",
        "def remove_tags(text):\n",
        "  remove_tags = ' '.join([word for word in text if not pattern2.findall(word) ])\n",
        "  \n",
        "  return remove_tags\n",
        "\n",
        "corpus['remove_tags'] = corpus['remove_punct'].apply(lambda x : remove_tags(x.split()))"
      ],
      "metadata": {
        "id": "o85dwXTHQneF"
      },
      "execution_count": null,
      "outputs": []
    },
    {
      "cell_type": "code",
      "source": [
        "corpus"
      ],
      "metadata": {
        "colab": {
          "base_uri": "https://localhost:8080/",
          "height": 423
        },
        "id": "iHZpic3lQFaj",
        "outputId": "39a5e5b2-1a80-4fda-d710-c506ff6dc809"
      },
      "execution_count": null,
      "outputs": [
        {
          "output_type": "execute_result",
          "data": {
            "text/plain": [
              "                                                   Text  \\\n",
              "1                                @kunalb11 I’m an alien   \n",
              "2     @ID_AA_Carmack Ray tracing on Cyberpunk with H...   \n",
              "3                   @joerogan @Spotify Great interview!   \n",
              "4                       @gtera27 Doge is underestimated   \n",
              "5     @teslacn Congratulations Tesla China for amazi...   \n",
              "...                                                 ...   \n",
              "1995  @flcnhvy True, it sounds so surreal, but the n...   \n",
              "1996  @PPathole Make sure to read ur terms &amp; con...   \n",
              "1997                @TeslaGong @PPathole Samwise Gamgee   \n",
              "1998  @PPathole Altho Dumb and Dumber is <U+0001F525...   \n",
              "1999                          Progress update August 28   \n",
              "\n",
              "                                           remove_punct  \\\n",
              "1                                          I’m an alien   \n",
              "2     Ray tracing on Cyberpunk with HDR is next-leve...   \n",
              "3                                      Great interview!   \n",
              "4                                Doge is underestimated   \n",
              "5     Congratulations Tesla China for amazing execut...   \n",
              "...                                                 ...   \n",
              "1995  True, it sounds so surreal, but the negative p...   \n",
              "1996  Make sure to read ur terms &amp; conditions be...   \n",
              "1997                                     Samwise Gamgee   \n",
              "1998                           Altho Dumb and Dumber is   \n",
              "1999                          Progress update August 28   \n",
              "\n",
              "                                            remove_tags  \n",
              "1                                          I’m an alien  \n",
              "2     Ray tracing on Cyberpunk with HDR is next-leve...  \n",
              "3                                      Great interview!  \n",
              "4                                Doge is underestimated  \n",
              "5     Congratulations Tesla China for amazing execut...  \n",
              "...                                                 ...  \n",
              "1995  True, it sounds so surreal, but the negative p...  \n",
              "1996  Make sure to read ur terms &amp; conditions be...  \n",
              "1997                                     Samwise Gamgee  \n",
              "1998                           Altho Dumb and Dumber is  \n",
              "1999                          Progress update August 28  \n",
              "\n",
              "[1999 rows x 3 columns]"
            ],
            "text/html": [
              "\n",
              "  <div id=\"df-4918729b-1414-4d93-9fb8-932a45861433\">\n",
              "    <div class=\"colab-df-container\">\n",
              "      <div>\n",
              "<style scoped>\n",
              "    .dataframe tbody tr th:only-of-type {\n",
              "        vertical-align: middle;\n",
              "    }\n",
              "\n",
              "    .dataframe tbody tr th {\n",
              "        vertical-align: top;\n",
              "    }\n",
              "\n",
              "    .dataframe thead th {\n",
              "        text-align: right;\n",
              "    }\n",
              "</style>\n",
              "<table border=\"1\" class=\"dataframe\">\n",
              "  <thead>\n",
              "    <tr style=\"text-align: right;\">\n",
              "      <th></th>\n",
              "      <th>Text</th>\n",
              "      <th>remove_punct</th>\n",
              "      <th>remove_tags</th>\n",
              "    </tr>\n",
              "  </thead>\n",
              "  <tbody>\n",
              "    <tr>\n",
              "      <th>1</th>\n",
              "      <td>@kunalb11 I’m an alien</td>\n",
              "      <td>I’m an alien</td>\n",
              "      <td>I’m an alien</td>\n",
              "    </tr>\n",
              "    <tr>\n",
              "      <th>2</th>\n",
              "      <td>@ID_AA_Carmack Ray tracing on Cyberpunk with H...</td>\n",
              "      <td>Ray tracing on Cyberpunk with HDR is next-leve...</td>\n",
              "      <td>Ray tracing on Cyberpunk with HDR is next-leve...</td>\n",
              "    </tr>\n",
              "    <tr>\n",
              "      <th>3</th>\n",
              "      <td>@joerogan @Spotify Great interview!</td>\n",
              "      <td>Great interview!</td>\n",
              "      <td>Great interview!</td>\n",
              "    </tr>\n",
              "    <tr>\n",
              "      <th>4</th>\n",
              "      <td>@gtera27 Doge is underestimated</td>\n",
              "      <td>Doge is underestimated</td>\n",
              "      <td>Doge is underestimated</td>\n",
              "    </tr>\n",
              "    <tr>\n",
              "      <th>5</th>\n",
              "      <td>@teslacn Congratulations Tesla China for amazi...</td>\n",
              "      <td>Congratulations Tesla China for amazing execut...</td>\n",
              "      <td>Congratulations Tesla China for amazing execut...</td>\n",
              "    </tr>\n",
              "    <tr>\n",
              "      <th>...</th>\n",
              "      <td>...</td>\n",
              "      <td>...</td>\n",
              "      <td>...</td>\n",
              "    </tr>\n",
              "    <tr>\n",
              "      <th>1995</th>\n",
              "      <td>@flcnhvy True, it sounds so surreal, but the n...</td>\n",
              "      <td>True, it sounds so surreal, but the negative p...</td>\n",
              "      <td>True, it sounds so surreal, but the negative p...</td>\n",
              "    </tr>\n",
              "    <tr>\n",
              "      <th>1996</th>\n",
              "      <td>@PPathole Make sure to read ur terms &amp;amp; con...</td>\n",
              "      <td>Make sure to read ur terms &amp;amp; conditions be...</td>\n",
              "      <td>Make sure to read ur terms &amp;amp; conditions be...</td>\n",
              "    </tr>\n",
              "    <tr>\n",
              "      <th>1997</th>\n",
              "      <td>@TeslaGong @PPathole Samwise Gamgee</td>\n",
              "      <td>Samwise Gamgee</td>\n",
              "      <td>Samwise Gamgee</td>\n",
              "    </tr>\n",
              "    <tr>\n",
              "      <th>1998</th>\n",
              "      <td>@PPathole Altho Dumb and Dumber is &lt;U+0001F525...</td>\n",
              "      <td>Altho Dumb and Dumber is</td>\n",
              "      <td>Altho Dumb and Dumber is</td>\n",
              "    </tr>\n",
              "    <tr>\n",
              "      <th>1999</th>\n",
              "      <td>Progress update August 28</td>\n",
              "      <td>Progress update August 28</td>\n",
              "      <td>Progress update August 28</td>\n",
              "    </tr>\n",
              "  </tbody>\n",
              "</table>\n",
              "<p>1999 rows × 3 columns</p>\n",
              "</div>\n",
              "      <button class=\"colab-df-convert\" onclick=\"convertToInteractive('df-4918729b-1414-4d93-9fb8-932a45861433')\"\n",
              "              title=\"Convert this dataframe to an interactive table.\"\n",
              "              style=\"display:none;\">\n",
              "        \n",
              "  <svg xmlns=\"http://www.w3.org/2000/svg\" height=\"24px\"viewBox=\"0 0 24 24\"\n",
              "       width=\"24px\">\n",
              "    <path d=\"M0 0h24v24H0V0z\" fill=\"none\"/>\n",
              "    <path d=\"M18.56 5.44l.94 2.06.94-2.06 2.06-.94-2.06-.94-.94-2.06-.94 2.06-2.06.94zm-11 1L8.5 8.5l.94-2.06 2.06-.94-2.06-.94L8.5 2.5l-.94 2.06-2.06.94zm10 10l.94 2.06.94-2.06 2.06-.94-2.06-.94-.94-2.06-.94 2.06-2.06.94z\"/><path d=\"M17.41 7.96l-1.37-1.37c-.4-.4-.92-.59-1.43-.59-.52 0-1.04.2-1.43.59L10.3 9.45l-7.72 7.72c-.78.78-.78 2.05 0 2.83L4 21.41c.39.39.9.59 1.41.59.51 0 1.02-.2 1.41-.59l7.78-7.78 2.81-2.81c.8-.78.8-2.07 0-2.86zM5.41 20L4 18.59l7.72-7.72 1.47 1.35L5.41 20z\"/>\n",
              "  </svg>\n",
              "      </button>\n",
              "      \n",
              "  <style>\n",
              "    .colab-df-container {\n",
              "      display:flex;\n",
              "      flex-wrap:wrap;\n",
              "      gap: 12px;\n",
              "    }\n",
              "\n",
              "    .colab-df-convert {\n",
              "      background-color: #E8F0FE;\n",
              "      border: none;\n",
              "      border-radius: 50%;\n",
              "      cursor: pointer;\n",
              "      display: none;\n",
              "      fill: #1967D2;\n",
              "      height: 32px;\n",
              "      padding: 0 0 0 0;\n",
              "      width: 32px;\n",
              "    }\n",
              "\n",
              "    .colab-df-convert:hover {\n",
              "      background-color: #E2EBFA;\n",
              "      box-shadow: 0px 1px 2px rgba(60, 64, 67, 0.3), 0px 1px 3px 1px rgba(60, 64, 67, 0.15);\n",
              "      fill: #174EA6;\n",
              "    }\n",
              "\n",
              "    [theme=dark] .colab-df-convert {\n",
              "      background-color: #3B4455;\n",
              "      fill: #D2E3FC;\n",
              "    }\n",
              "\n",
              "    [theme=dark] .colab-df-convert:hover {\n",
              "      background-color: #434B5C;\n",
              "      box-shadow: 0px 1px 3px 1px rgba(0, 0, 0, 0.15);\n",
              "      filter: drop-shadow(0px 1px 2px rgba(0, 0, 0, 0.3));\n",
              "      fill: #FFFFFF;\n",
              "    }\n",
              "  </style>\n",
              "\n",
              "      <script>\n",
              "        const buttonEl =\n",
              "          document.querySelector('#df-4918729b-1414-4d93-9fb8-932a45861433 button.colab-df-convert');\n",
              "        buttonEl.style.display =\n",
              "          google.colab.kernel.accessAllowed ? 'block' : 'none';\n",
              "\n",
              "        async function convertToInteractive(key) {\n",
              "          const element = document.querySelector('#df-4918729b-1414-4d93-9fb8-932a45861433');\n",
              "          const dataTable =\n",
              "            await google.colab.kernel.invokeFunction('convertToInteractive',\n",
              "                                                     [key], {});\n",
              "          if (!dataTable) return;\n",
              "\n",
              "          const docLinkHtml = 'Like what you see? Visit the ' +\n",
              "            '<a target=\"_blank\" href=https://colab.research.google.com/notebooks/data_table.ipynb>data table notebook</a>'\n",
              "            + ' to learn more about interactive tables.';\n",
              "          element.innerHTML = '';\n",
              "          dataTable['output_type'] = 'display_data';\n",
              "          await google.colab.output.renderOutput(dataTable, element);\n",
              "          const docLink = document.createElement('div');\n",
              "          docLink.innerHTML = docLinkHtml;\n",
              "          element.appendChild(docLink);\n",
              "        }\n",
              "      </script>\n",
              "    </div>\n",
              "  </div>\n",
              "  "
            ]
          },
          "metadata": {},
          "execution_count": 271
        }
      ]
    },
    {
      "cell_type": "code",
      "source": [
        "from textblob import TextBlob"
      ],
      "metadata": {
        "id": "D47wIUCp2HJO"
      },
      "execution_count": null,
      "outputs": []
    },
    {
      "cell_type": "code",
      "source": [
        "def remove_char(text):\n",
        "  remove_tags = ''.join([word for word in text if word not in string.punctuation])\n",
        "  \n",
        "  return remove_tags\n",
        "\n",
        "corpus['remove_char'] = corpus['remove_tags'].apply(lambda x : remove_char(x))"
      ],
      "metadata": {
        "id": "-sTDtlJuR--3"
      },
      "execution_count": null,
      "outputs": []
    },
    {
      "cell_type": "code",
      "source": [
        "drop_index = corpus[corpus['remove_char'] == ''].index.to_list()"
      ],
      "metadata": {
        "id": "CMPvaVVpHdVF"
      },
      "execution_count": null,
      "outputs": []
    },
    {
      "cell_type": "code",
      "source": [
        "corpus.drop(drop_index,inplace=True,axis=0)"
      ],
      "metadata": {
        "id": "iIBUDq9-2aW_"
      },
      "execution_count": null,
      "outputs": []
    },
    {
      "cell_type": "code",
      "source": [
        "# from google_trans_new import google_translator\n",
        "# translator = google_translator()\n",
        "\n",
        "# def German_translation(x):\n",
        "#   # german_translation = translator.translate(x,lang_tgt='en')\n",
        "#   translator = google_translator() \n",
        "#   translate_text = translator.translate(x,lang_tgt='de')  \n",
        "#   return translate_text\n",
        "\n",
        "# # def English_translation(x):\n",
        "# #   english_translation = translator.translate(German_translation(x),dest='en')\n",
        "# #   return english_translation\n",
        "\n",
        "\n",
        "\n",
        "\n",
        "# corpus['translated'] = corpus['remove_char'].apply(lambda x : German_translation(x))\n",
        "\n",
        "\n",
        "\n"
      ],
      "metadata": {
        "id": "xd3YKm9BrIF6"
      },
      "execution_count": null,
      "outputs": []
    },
    {
      "cell_type": "code",
      "source": [
        "from vaderSentiment.vaderSentiment import SentimentIntensityAnalyzer\n",
        "\n",
        "vd = SentimentIntensityAnalyzer()\n",
        "\n",
        "def label(text):\n",
        "  sentiment_dict = vd.polarity_scores(text)\n",
        "  if sentiment_dict['compound'] >= 0.5:\n",
        "    tag = 'positive'\n",
        "  elif sentiment_dict['compound'] <= -0.5:\n",
        "    tag = 'negative'\n",
        "  else:\n",
        "    tag = 'neutral'\n",
        "  return tag\n",
        "\n",
        "corpus['label'] = corpus['remove_char'].apply(lambda x : label(x))"
      ],
      "metadata": {
        "id": "t1YJok5hZbDb"
      },
      "execution_count": null,
      "outputs": []
    },
    {
      "cell_type": "code",
      "source": [
        "corpus"
      ],
      "metadata": {
        "colab": {
          "base_uri": "https://localhost:8080/",
          "height": 467
        },
        "id": "PipiaXswaoym",
        "outputId": "cb4e9928-62f2-4d39-bf97-046b4e5b28ec"
      },
      "execution_count": null,
      "outputs": [
        {
          "output_type": "execute_result",
          "data": {
            "text/plain": [
              "                                                   Text  \\\n",
              "1                                @kunalb11 I’m an alien   \n",
              "2     @ID_AA_Carmack Ray tracing on Cyberpunk with H...   \n",
              "3                   @joerogan @Spotify Great interview!   \n",
              "4                       @gtera27 Doge is underestimated   \n",
              "5     @teslacn Congratulations Tesla China for amazi...   \n",
              "...                                                 ...   \n",
              "1995  @flcnhvy True, it sounds so surreal, but the n...   \n",
              "1996  @PPathole Make sure to read ur terms &amp; con...   \n",
              "1997                @TeslaGong @PPathole Samwise Gamgee   \n",
              "1998  @PPathole Altho Dumb and Dumber is <U+0001F525...   \n",
              "1999                          Progress update August 28   \n",
              "\n",
              "                                           remove_punct  \\\n",
              "1                                          I’m an alien   \n",
              "2     Ray tracing on Cyberpunk with HDR is next-leve...   \n",
              "3                                      Great interview!   \n",
              "4                                Doge is underestimated   \n",
              "5     Congratulations Tesla China for amazing execut...   \n",
              "...                                                 ...   \n",
              "1995  True, it sounds so surreal, but the negative p...   \n",
              "1996  Make sure to read ur terms &amp; conditions be...   \n",
              "1997                                     Samwise Gamgee   \n",
              "1998                           Altho Dumb and Dumber is   \n",
              "1999                          Progress update August 28   \n",
              "\n",
              "                                            remove_tags  \\\n",
              "1                                          I’m an alien   \n",
              "2     Ray tracing on Cyberpunk with HDR is next-leve...   \n",
              "3                                      Great interview!   \n",
              "4                                Doge is underestimated   \n",
              "5     Congratulations Tesla China for amazing execut...   \n",
              "...                                                 ...   \n",
              "1995  True, it sounds so surreal, but the negative p...   \n",
              "1996  Make sure to read ur terms &amp; conditions be...   \n",
              "1997                                     Samwise Gamgee   \n",
              "1998                           Altho Dumb and Dumber is   \n",
              "1999                          Progress update August 28   \n",
              "\n",
              "                                            remove_char  \n",
              "1                                          I’m an alien  \n",
              "2     Ray tracing on Cyberpunk with HDR is nextlevel...  \n",
              "3                                       Great interview  \n",
              "4                                Doge is underestimated  \n",
              "5     Congratulations Tesla China for amazing execut...  \n",
              "...                                                 ...  \n",
              "1995  True it sounds so surreal but the negative pro...  \n",
              "1996  Make sure to read ur terms amp conditions befo...  \n",
              "1997                                     Samwise Gamgee  \n",
              "1998                           Altho Dumb and Dumber is  \n",
              "1999                          Progress update August 28  \n",
              "\n",
              "[1863 rows x 4 columns]"
            ],
            "text/html": [
              "\n",
              "  <div id=\"df-b928d401-92f8-4a83-8a11-3430b9929108\">\n",
              "    <div class=\"colab-df-container\">\n",
              "      <div>\n",
              "<style scoped>\n",
              "    .dataframe tbody tr th:only-of-type {\n",
              "        vertical-align: middle;\n",
              "    }\n",
              "\n",
              "    .dataframe tbody tr th {\n",
              "        vertical-align: top;\n",
              "    }\n",
              "\n",
              "    .dataframe thead th {\n",
              "        text-align: right;\n",
              "    }\n",
              "</style>\n",
              "<table border=\"1\" class=\"dataframe\">\n",
              "  <thead>\n",
              "    <tr style=\"text-align: right;\">\n",
              "      <th></th>\n",
              "      <th>Text</th>\n",
              "      <th>remove_punct</th>\n",
              "      <th>remove_tags</th>\n",
              "      <th>remove_char</th>\n",
              "    </tr>\n",
              "  </thead>\n",
              "  <tbody>\n",
              "    <tr>\n",
              "      <th>1</th>\n",
              "      <td>@kunalb11 I’m an alien</td>\n",
              "      <td>I’m an alien</td>\n",
              "      <td>I’m an alien</td>\n",
              "      <td>I’m an alien</td>\n",
              "    </tr>\n",
              "    <tr>\n",
              "      <th>2</th>\n",
              "      <td>@ID_AA_Carmack Ray tracing on Cyberpunk with H...</td>\n",
              "      <td>Ray tracing on Cyberpunk with HDR is next-leve...</td>\n",
              "      <td>Ray tracing on Cyberpunk with HDR is next-leve...</td>\n",
              "      <td>Ray tracing on Cyberpunk with HDR is nextlevel...</td>\n",
              "    </tr>\n",
              "    <tr>\n",
              "      <th>3</th>\n",
              "      <td>@joerogan @Spotify Great interview!</td>\n",
              "      <td>Great interview!</td>\n",
              "      <td>Great interview!</td>\n",
              "      <td>Great interview</td>\n",
              "    </tr>\n",
              "    <tr>\n",
              "      <th>4</th>\n",
              "      <td>@gtera27 Doge is underestimated</td>\n",
              "      <td>Doge is underestimated</td>\n",
              "      <td>Doge is underestimated</td>\n",
              "      <td>Doge is underestimated</td>\n",
              "    </tr>\n",
              "    <tr>\n",
              "      <th>5</th>\n",
              "      <td>@teslacn Congratulations Tesla China for amazi...</td>\n",
              "      <td>Congratulations Tesla China for amazing execut...</td>\n",
              "      <td>Congratulations Tesla China for amazing execut...</td>\n",
              "      <td>Congratulations Tesla China for amazing execut...</td>\n",
              "    </tr>\n",
              "    <tr>\n",
              "      <th>...</th>\n",
              "      <td>...</td>\n",
              "      <td>...</td>\n",
              "      <td>...</td>\n",
              "      <td>...</td>\n",
              "    </tr>\n",
              "    <tr>\n",
              "      <th>1995</th>\n",
              "      <td>@flcnhvy True, it sounds so surreal, but the n...</td>\n",
              "      <td>True, it sounds so surreal, but the negative p...</td>\n",
              "      <td>True, it sounds so surreal, but the negative p...</td>\n",
              "      <td>True it sounds so surreal but the negative pro...</td>\n",
              "    </tr>\n",
              "    <tr>\n",
              "      <th>1996</th>\n",
              "      <td>@PPathole Make sure to read ur terms &amp;amp; con...</td>\n",
              "      <td>Make sure to read ur terms &amp;amp; conditions be...</td>\n",
              "      <td>Make sure to read ur terms &amp;amp; conditions be...</td>\n",
              "      <td>Make sure to read ur terms amp conditions befo...</td>\n",
              "    </tr>\n",
              "    <tr>\n",
              "      <th>1997</th>\n",
              "      <td>@TeslaGong @PPathole Samwise Gamgee</td>\n",
              "      <td>Samwise Gamgee</td>\n",
              "      <td>Samwise Gamgee</td>\n",
              "      <td>Samwise Gamgee</td>\n",
              "    </tr>\n",
              "    <tr>\n",
              "      <th>1998</th>\n",
              "      <td>@PPathole Altho Dumb and Dumber is &lt;U+0001F525...</td>\n",
              "      <td>Altho Dumb and Dumber is</td>\n",
              "      <td>Altho Dumb and Dumber is</td>\n",
              "      <td>Altho Dumb and Dumber is</td>\n",
              "    </tr>\n",
              "    <tr>\n",
              "      <th>1999</th>\n",
              "      <td>Progress update August 28</td>\n",
              "      <td>Progress update August 28</td>\n",
              "      <td>Progress update August 28</td>\n",
              "      <td>Progress update August 28</td>\n",
              "    </tr>\n",
              "  </tbody>\n",
              "</table>\n",
              "<p>1863 rows × 4 columns</p>\n",
              "</div>\n",
              "      <button class=\"colab-df-convert\" onclick=\"convertToInteractive('df-b928d401-92f8-4a83-8a11-3430b9929108')\"\n",
              "              title=\"Convert this dataframe to an interactive table.\"\n",
              "              style=\"display:none;\">\n",
              "        \n",
              "  <svg xmlns=\"http://www.w3.org/2000/svg\" height=\"24px\"viewBox=\"0 0 24 24\"\n",
              "       width=\"24px\">\n",
              "    <path d=\"M0 0h24v24H0V0z\" fill=\"none\"/>\n",
              "    <path d=\"M18.56 5.44l.94 2.06.94-2.06 2.06-.94-2.06-.94-.94-2.06-.94 2.06-2.06.94zm-11 1L8.5 8.5l.94-2.06 2.06-.94-2.06-.94L8.5 2.5l-.94 2.06-2.06.94zm10 10l.94 2.06.94-2.06 2.06-.94-2.06-.94-.94-2.06-.94 2.06-2.06.94z\"/><path d=\"M17.41 7.96l-1.37-1.37c-.4-.4-.92-.59-1.43-.59-.52 0-1.04.2-1.43.59L10.3 9.45l-7.72 7.72c-.78.78-.78 2.05 0 2.83L4 21.41c.39.39.9.59 1.41.59.51 0 1.02-.2 1.41-.59l7.78-7.78 2.81-2.81c.8-.78.8-2.07 0-2.86zM5.41 20L4 18.59l7.72-7.72 1.47 1.35L5.41 20z\"/>\n",
              "  </svg>\n",
              "      </button>\n",
              "      \n",
              "  <style>\n",
              "    .colab-df-container {\n",
              "      display:flex;\n",
              "      flex-wrap:wrap;\n",
              "      gap: 12px;\n",
              "    }\n",
              "\n",
              "    .colab-df-convert {\n",
              "      background-color: #E8F0FE;\n",
              "      border: none;\n",
              "      border-radius: 50%;\n",
              "      cursor: pointer;\n",
              "      display: none;\n",
              "      fill: #1967D2;\n",
              "      height: 32px;\n",
              "      padding: 0 0 0 0;\n",
              "      width: 32px;\n",
              "    }\n",
              "\n",
              "    .colab-df-convert:hover {\n",
              "      background-color: #E2EBFA;\n",
              "      box-shadow: 0px 1px 2px rgba(60, 64, 67, 0.3), 0px 1px 3px 1px rgba(60, 64, 67, 0.15);\n",
              "      fill: #174EA6;\n",
              "    }\n",
              "\n",
              "    [theme=dark] .colab-df-convert {\n",
              "      background-color: #3B4455;\n",
              "      fill: #D2E3FC;\n",
              "    }\n",
              "\n",
              "    [theme=dark] .colab-df-convert:hover {\n",
              "      background-color: #434B5C;\n",
              "      box-shadow: 0px 1px 3px 1px rgba(0, 0, 0, 0.15);\n",
              "      filter: drop-shadow(0px 1px 2px rgba(0, 0, 0, 0.3));\n",
              "      fill: #FFFFFF;\n",
              "    }\n",
              "  </style>\n",
              "\n",
              "      <script>\n",
              "        const buttonEl =\n",
              "          document.querySelector('#df-b928d401-92f8-4a83-8a11-3430b9929108 button.colab-df-convert');\n",
              "        buttonEl.style.display =\n",
              "          google.colab.kernel.accessAllowed ? 'block' : 'none';\n",
              "\n",
              "        async function convertToInteractive(key) {\n",
              "          const element = document.querySelector('#df-b928d401-92f8-4a83-8a11-3430b9929108');\n",
              "          const dataTable =\n",
              "            await google.colab.kernel.invokeFunction('convertToInteractive',\n",
              "                                                     [key], {});\n",
              "          if (!dataTable) return;\n",
              "\n",
              "          const docLinkHtml = 'Like what you see? Visit the ' +\n",
              "            '<a target=\"_blank\" href=https://colab.research.google.com/notebooks/data_table.ipynb>data table notebook</a>'\n",
              "            + ' to learn more about interactive tables.';\n",
              "          element.innerHTML = '';\n",
              "          dataTable['output_type'] = 'display_data';\n",
              "          await google.colab.output.renderOutput(dataTable, element);\n",
              "          const docLink = document.createElement('div');\n",
              "          docLink.innerHTML = docLinkHtml;\n",
              "          element.appendChild(docLink);\n",
              "        }\n",
              "      </script>\n",
              "    </div>\n",
              "  </div>\n",
              "  "
            ]
          },
          "metadata": {},
          "execution_count": 280
        }
      ]
    },
    {
      "cell_type": "code",
      "source": [
        "# def label(text):\n",
        "#   tb = TextBlob(text)\n",
        "#   if tb.sentiment[0] >= 0.5:\n",
        "#     tag = 'positive'\n",
        "#   elif tb.sentiment[0] <= 0:\n",
        "#     tag = 'neutral'\n",
        "#   else:\n",
        "#     tag = 'negative'\n",
        "#   return tag\n",
        "\n",
        "# corpus['label'] = corpus['remove_char'].apply(lambda x : label(x))\n"
      ],
      "metadata": {
        "id": "a3rI2KPByEL5"
      },
      "execution_count": null,
      "outputs": []
    },
    {
      "cell_type": "code",
      "source": [
        "# drop_index1 = corpus[corpus['label'] == 'neutral'].index.to_list()"
      ],
      "metadata": {
        "id": "um9UH57TUXqa"
      },
      "execution_count": null,
      "outputs": []
    },
    {
      "cell_type": "code",
      "source": [
        "# corpus.drop(drop_index1,inplace=True,axis=0)"
      ],
      "metadata": {
        "id": "GThE8o7gUgzQ"
      },
      "execution_count": null,
      "outputs": []
    },
    {
      "cell_type": "code",
      "source": [
        "corpus['label'].value_counts()"
      ],
      "metadata": {
        "colab": {
          "base_uri": "https://localhost:8080/"
        },
        "id": "QkAWVd4NNn-l",
        "outputId": "3019ebc5-0cd5-41a4-b4dc-f53e453877a2"
      },
      "execution_count": null,
      "outputs": [
        {
          "output_type": "execute_result",
          "data": {
            "text/plain": [
              "neutral     981\n",
              "negative    636\n",
              "positive    246\n",
              "Name: label, dtype: int64"
            ]
          },
          "metadata": {},
          "execution_count": 284
        }
      ]
    },
    {
      "cell_type": "code",
      "source": [
        "sns.countplot(x=corpus['label'])"
      ],
      "metadata": {
        "colab": {
          "base_uri": "https://localhost:8080/",
          "height": 466
        },
        "id": "bBUjLo8EUAGk",
        "outputId": "c99ee3f0-250c-4e77-8216-930433d65115"
      },
      "execution_count": null,
      "outputs": [
        {
          "output_type": "execute_result",
          "data": {
            "text/plain": [
              "<Axes: xlabel='label', ylabel='count'>"
            ]
          },
          "metadata": {},
          "execution_count": 285
        },
        {
          "output_type": "display_data",
          "data": {
            "text/plain": [
              "<Figure size 640x480 with 1 Axes>"
            ],
            "image/png": "[encoded data removed]"
          },
          "metadata": {}
        }
      ]
    },
    {
      "cell_type": "code",
      "source": [
        "from sklearn.model_selection import KFold,cross_val_score\n",
        "from sklearn.model_selection import train_test_split\n",
        "\n",
        "\n",
        "kfold = KFold(n_splits=20,shuffle=True,random_state=123)\n",
        "\n",
        "X_train,X_test,y_train,y_test = train_test_split(corpus['remove_char'],corpus['label'],test_size=0.2,random_state=123)\n",
        "\n"
      ],
      "metadata": {
        "id": "Ms3REZSlQaHs"
      },
      "execution_count": null,
      "outputs": []
    },
    {
      "cell_type": "code",
      "source": [
        "from sklearn.ensemble import RandomForestClassifier\n",
        "\n",
        "classifier = RandomForestClassifier()\n",
        "\n"
      ],
      "metadata": {
        "id": "E03wBKWnWhy_"
      },
      "execution_count": null,
      "outputs": []
    },
    {
      "cell_type": "code",
      "source": [
        "from sklearn.model_selection import GridSearchCV\n",
        "\n",
        "forest_params = [{'n_estimators':list(range(100,150)), 'max_depth': list(range(30, 50))}]\n",
        "\n"
      ],
      "metadata": {
        "id": "kPg55AqbgcXd"
      },
      "execution_count": null,
      "outputs": []
    },
    {
      "cell_type": "code",
      "source": [
        "from sklearn.feature_extraction.text import TfidfVectorizer\n",
        "\n",
        "td = TfidfVectorizer()"
      ],
      "metadata": {
        "id": "KEL-Vn7bW4yh"
      },
      "execution_count": null,
      "outputs": []
    },
    {
      "cell_type": "code",
      "source": [
        "from sklearn.svm import SVC\n",
        "\n",
        "\n",
        "sv = SVC()"
      ],
      "metadata": {
        "id": "ukelnBBPGkBq"
      },
      "execution_count": null,
      "outputs": []
    },
    {
      "cell_type": "code",
      "source": [
        "from sklearn.pipeline import Pipeline\n",
        "\n",
        "\n",
        "cls = Pipeline([('tfidf',td),('classifier',sv)])"
      ],
      "metadata": {
        "id": "yLH3klb6XL85"
      },
      "execution_count": null,
      "outputs": []
    },
    {
      "cell_type": "code",
      "source": [
        "random_grid = {\n",
        "'classifier__n_estimators':list(range(100,150,10)),\n",
        "'classifier__max_depth': list(range(40,80,10 ))}\n",
        "\n",
        "random_grid1 = {'classifier__C': [0.1, 1, 10, 100, 1000], \n",
        "              'classifier__gamma': [1, 0.1, 0.01, 0.001, 0.0001],\n",
        "              'classifier__kernel': ['rbf','sigmoid']}\n",
        "clf = GridSearchCV(cls,param_grid = random_grid1,cv=20,scoring='accuracy',n_jobs=-1)"
      ],
      "metadata": {
        "id": "rSXFrEt9kBPs"
      },
      "execution_count": null,
      "outputs": []
    },
    {
      "cell_type": "code",
      "source": [
        "clf.fit(X_train,y_train)"
      ],
      "metadata": {
        "colab": {
          "base_uri": "https://localhost:8080/",
          "height": 151
        },
        "id": "tw3xfA3LXhcX",
        "outputId": "2919baa2-37c0-4140-efbf-2328be73bacc"
      },
      "execution_count": null,
      "outputs": [
        {
          "output_type": "execute_result",
          "data": {
            "text/plain": [
              "GridSearchCV(cv=20,\n",
              "             estimator=Pipeline(steps=[('tfidf', TfidfVectorizer()),\n",
              "                                       ('classifier', SVC())]),\n",
              "             n_jobs=-1,\n",
              "             param_grid={'classifier__C': [0.1, 1, 10, 100, 1000],\n",
              "                         'classifier__gamma': [1, 0.1, 0.01, 0.001, 0.0001],\n",
              "                         'classifier__kernel': ['rbf', 'sigmoid']},\n",
              "             scoring='accuracy')"
            ],
            "text/html": [
              "<style>#sk-container-id-10 {color: black;background-color: white;}#sk-container-id-10 pre{padding: 0;}#sk-container-id-10 div.sk-toggleable {background-color: white;}#sk-container-id-10 label.sk-toggleable__label {cursor: pointer;display: block;width: 100%;margin-bottom: 0;padding: 0.3em;box-sizing: border-box;text-align: center;}#sk-container-id-10 label.sk-toggleable__label-arrow:before {content: \"▸\";float: left;margin-right: 0.25em;color: #696969;}#sk-container-id-10 label.sk-toggleable__label-arrow:hover:before {color: black;}#sk-container-id-10 div.sk-estimator:hover label.sk-toggleable__label-arrow:before {color: black;}#sk-container-id-10 div.sk-toggleable__content {max-height: 0;max-width: 0;overflow: hidden;text-align: left;background-color: #f0f8ff;}#sk-container-id-10 div.sk-toggleable__content pre {margin: 0.2em;color: black;border-radius: 0.25em;background-color: #f0f8ff;}#sk-container-id-10 input.sk-toggleable__control:checked~div.sk-toggleable__content {max-height: 200px;max-width: 100%;overflow: auto;}#sk-container-id-10 input.sk-toggleable__control:checked~label.sk-toggleable__label-arrow:before {content: \"▾\";}#sk-container-id-10 div.sk-estimator input.sk-toggleable__control:checked~label.sk-toggleable__label {background-color: #d4ebff;}#sk-container-id-10 div.sk-label input.sk-toggleable__control:checked~label.sk-toggleable__label {background-color: #d4ebff;}#sk-container-id-10 input.sk-hidden--visually {border: 0;clip: rect(1px 1px 1px 1px);clip: rect(1px, 1px, 1px, 1px);height: 1px;margin: -1px;overflow: hidden;padding: 0;position: absolute;width: 1px;}#sk-container-id-10 div.sk-estimator {font-family: monospace;background-color: #f0f8ff;border: 1px dotted black;border-radius: 0.25em;box-sizing: border-box;margin-bottom: 0.5em;}#sk-container-id-10 div.sk-estimator:hover {background-color: #d4ebff;}#sk-container-id-10 div.sk-parallel-item::after {content: \"\";width: 100%;border-bottom: 1px solid gray;flex-grow: 1;}#sk-container-id-10 div.sk-label:hover label.sk-toggleable__label {background-color: #d4ebff;}#sk-container-id-10 div.sk-serial::before {content: \"\";position: absolute;border-left: 1px solid gray;box-sizing: border-box;top: 0;bottom: 0;left: 50%;z-index: 0;}#sk-container-id-10 div.sk-serial {display: flex;flex-direction: column;align-items: center;background-color: white;padding-right: 0.2em;padding-left: 0.2em;position: relative;}#sk-container-id-10 div.sk-item {position: relative;z-index: 1;}#sk-container-id-10 div.sk-parallel {display: flex;align-items: stretch;justify-content: center;background-color: white;position: relative;}#sk-container-id-10 div.sk-item::before, #sk-container-id-10 div.sk-parallel-item::before {content: \"\";position: absolute;border-left: 1px solid gray;box-sizing: border-box;top: 0;bottom: 0;left: 50%;z-index: -1;}#sk-container-id-10 div.sk-parallel-item {display: flex;flex-direction: column;z-index: 1;position: relative;background-color: white;}#sk-container-id-10 div.sk-parallel-item:first-child::after {align-self: flex-end;width: 50%;}#sk-container-id-10 div.sk-parallel-item:last-child::after {align-self: flex-start;width: 50%;}#sk-container-id-10 div.sk-parallel-item:only-child::after {width: 0;}#sk-container-id-10 div.sk-dashed-wrapped {border: 1px dashed gray;margin: 0 0.4em 0.5em 0.4em;box-sizing: border-box;padding-bottom: 0.4em;background-color: white;}#sk-container-id-10 div.sk-label label {font-family: monospace;font-weight: bold;display: inline-block;line-height: 1.2em;}#sk-container-id-10 div.sk-label-container {text-align: center;}#sk-container-id-10 div.sk-container {/* jupyter's `normalize.less` sets `[hidden] { display: none; }` but bootstrap.min.css set `[hidden] { display: none !important; }` so we also need the `!important` here to be able to override the default hidden behavior on the sphinx rendered scikit-learn.org. See: https://github.com/scikit-learn/scikit-learn/issues/21755 */display: inline-block !important;position: relative;}#sk-container-id-10 div.sk-text-repr-fallback {display: none;}</style><div id=\"sk-container-id-10\" class=\"sk-top-container\"><div class=\"sk-text-repr-fallback\"><pre>GridSearchCV(cv=20,\n",
              "             estimator=Pipeline(steps=[(&#x27;tfidf&#x27;, TfidfVectorizer()),\n",
              "                                       (&#x27;classifier&#x27;, SVC())]),\n",
              "             n_jobs=-1,\n",
              "             param_grid={&#x27;classifier__C&#x27;: [0.1, 1, 10, 100, 1000],\n",
              "                         &#x27;classifier__gamma&#x27;: [1, 0.1, 0.01, 0.001, 0.0001],\n",
              "                         &#x27;classifier__kernel&#x27;: [&#x27;rbf&#x27;, &#x27;sigmoid&#x27;]},\n",
              "             scoring=&#x27;accuracy&#x27;)</pre><b>In a Jupyter environment, please rerun this cell to show the HTML representation or trust the notebook. <br />On GitHub, the HTML representation is unable to render, please try loading this page with nbviewer.org.</b></div><div class=\"sk-container\" hidden><div class=\"sk-item sk-dashed-wrapped\"><div class=\"sk-label-container\"><div class=\"sk-label sk-toggleable\"><input class=\"sk-toggleable__control sk-hidden--visually\" id=\"sk-estimator-id-37\" type=\"checkbox\" ><label for=\"sk-estimator-id-37\" class=\"sk-toggleable__label sk-toggleable__label-arrow\">GridSearchCV</label><div class=\"sk-toggleable__content\"><pre>GridSearchCV(cv=20,\n",
              "             estimator=Pipeline(steps=[(&#x27;tfidf&#x27;, TfidfVectorizer()),\n",
              "                                       (&#x27;classifier&#x27;, SVC())]),\n",
              "             n_jobs=-1,\n",
              "             param_grid={&#x27;classifier__C&#x27;: [0.1, 1, 10, 100, 1000],\n",
              "                         &#x27;classifier__gamma&#x27;: [1, 0.1, 0.01, 0.001, 0.0001],\n",
              "                         &#x27;classifier__kernel&#x27;: [&#x27;rbf&#x27;, &#x27;sigmoid&#x27;]},\n",
              "             scoring=&#x27;accuracy&#x27;)</pre></div></div></div><div class=\"sk-parallel\"><div class=\"sk-parallel-item\"><div class=\"sk-item\"><div class=\"sk-label-container\"><div class=\"sk-label sk-toggleable\"><input class=\"sk-toggleable__control sk-hidden--visually\" id=\"sk-estimator-id-38\" type=\"checkbox\" ><label for=\"sk-estimator-id-38\" class=\"sk-toggleable__label sk-toggleable__label-arrow\">estimator: Pipeline</label><div class=\"sk-toggleable__content\"><pre>Pipeline(steps=[(&#x27;tfidf&#x27;, TfidfVectorizer()), (&#x27;classifier&#x27;, SVC())])</pre></div></div></div><div class=\"sk-serial\"><div class=\"sk-item\"><div class=\"sk-serial\"><div class=\"sk-item\"><div class=\"sk-estimator sk-toggleable\"><input class=\"sk-toggleable__control sk-hidden--visually\" id=\"sk-estimator-id-39\" type=\"checkbox\" ><label for=\"sk-estimator-id-39\" class=\"sk-toggleable__label sk-toggleable__label-arrow\">TfidfVectorizer</label><div class=\"sk-toggleable__content\"><pre>TfidfVectorizer()</pre></div></div></div><div class=\"sk-item\"><div class=\"sk-estimator sk-toggleable\"><input class=\"sk-toggleable__control sk-hidden--visually\" id=\"sk-estimator-id-40\" type=\"checkbox\" ><label for=\"sk-estimator-id-40\" class=\"sk-toggleable__label sk-toggleable__label-arrow\">SVC</label><div class=\"sk-toggleable__content\"><pre>SVC()</pre></div></div></div></div></div></div></div></div></div></div></div></div>"
            ]
          },
          "metadata": {},
          "execution_count": 327
        }
      ]
    },
    {
      "cell_type": "code",
      "source": [
        "clf.score(X_train,y_train)  "
      ],
      "metadata": {
        "id": "3iiI7mfdYifT",
        "colab": {
          "base_uri": "https://localhost:8080/"
        },
        "outputId": "2e6850d0-3297-4bb0-9a03-8930e7d14637"
      },
      "execution_count": null,
      "outputs": [
        {
          "output_type": "execute_result",
          "data": {
            "text/plain": [
              "0.9959731543624161"
            ]
          },
          "metadata": {},
          "execution_count": 320
        }
      ]
    },
    {
      "cell_type": "code",
      "source": [
        "print(clf.best_params_)"
      ],
      "metadata": {
        "id": "5UrgseOjkNcm",
        "colab": {
          "base_uri": "https://localhost:8080/"
        },
        "outputId": "1abde2b9-26b4-4d3b-e8b5-744058d4c05d"
      },
      "execution_count": null,
      "outputs": [
        {
          "output_type": "stream",
          "name": "stdout",
          "text": [
            "{'classifier__C': 10, 'classifier__gamma': 0.1, 'classifier__kernel': 'rbf'}\n"
          ]
        }
      ]
    },
    {
      "cell_type": "code",
      "source": [
        "clf.score(X_test,y_test)"
      ],
      "metadata": {
        "id": "PCVb1yVmYrOC",
        "colab": {
          "base_uri": "https://localhost:8080/"
        },
        "outputId": "78caa71e-4ab6-47c4-ef9a-7f50dde48bfd"
      },
      "execution_count": null,
      "outputs": [
        {
          "output_type": "execute_result",
          "data": {
            "text/plain": [
              "0.7908847184986595"
            ]
          },
          "metadata": {},
          "execution_count": 322
        }
      ]
    },
    {
      "cell_type": "code",
      "source": [
        "y_pred  = clf.predict(['this is amazing'])\n",
        "y_pred"
      ],
      "metadata": {
        "id": "BDL6sK45Yuu6",
        "colab": {
          "base_uri": "https://localhost:8080/"
        },
        "outputId": "54085005-c010-4a29-94bb-64e7eb1dca22"
      },
      "execution_count": null,
      "outputs": [
        {
          "output_type": "execute_result",
          "data": {
            "text/plain": [
              "array(['positive'], dtype=object)"
            ]
          },
          "metadata": {},
          "execution_count": 328
        }
      ]
    },
    {
      "cell_type": "code",
      "source": [
        "from sklearn.metrics import accuracy_score,confusion_matrix\n",
        "\n",
        "accuracy_score(y_test,y_pred)"
      ],
      "metadata": {
        "id": "chy4pehwZppu",
        "colab": {
          "base_uri": "https://localhost:8080/"
        },
        "outputId": "f1448b4b-636a-452c-eb0b-098faca6d07c"
      },
      "execution_count": null,
      "outputs": [
        {
          "output_type": "execute_result",
          "data": {
            "text/plain": [
              "0.7908847184986595"
            ]
          },
          "metadata": {},
          "execution_count": 324
        }
      ]
    },
    {
      "cell_type": "code",
      "source": [
        "sns.heatmap(confusion_matrix(y_test,y_pred),annot=True)"
      ],
      "metadata": {
        "id": "HnZ07XDAanvi",
        "colab": {
          "base_uri": "https://localhost:8080/",
          "height": 447
        },
        "outputId": "69a6d701-dfb8-42f6-e0db-1f0bea9b4259"
      },
      "execution_count": null,
      "outputs": [
        {
          "output_type": "execute_result",
          "data": {
            "text/plain": [
              "<Axes: >"
            ]
          },
          "metadata": {},
          "execution_count": 303
        },
        {
          "output_type": "display_data",
          "data": {
            "text/plain": [
              "<Figure size 640x480 with 2 Axes>"
            ],
            "image/png": "[encoded data removed]"
          },
          "metadata": {}
        }
      ]
    },
    {
      "cell_type": "code",
      "source": [
        "from sklearn.metrics import classification_report\n",
        "\n",
        "print(classification_report(y_test,y_pred))"
      ],
      "metadata": {
        "id": "Ii38036NdHUh",
        "colab": {
          "base_uri": "https://localhost:8080/"
        },
        "outputId": "83ae0af5-4085-4af0-c044-4c260fe1afc5"
      },
      "execution_count": null,
      "outputs": [
        {
          "output_type": "stream",
          "name": "stdout",
          "text": [
            "              precision    recall  f1-score   support\n",
            "\n",
            "    negative       0.83      0.64      0.72       124\n",
            "     neutral       0.77      0.96      0.85       196\n",
            "    positive       0.84      0.49      0.62        53\n",
            "\n",
            "    accuracy                           0.79       373\n",
            "   macro avg       0.81      0.70      0.73       373\n",
            "weighted avg       0.80      0.79      0.78       373\n",
            "\n"
          ]
        }
      ]
    }
  ]
}